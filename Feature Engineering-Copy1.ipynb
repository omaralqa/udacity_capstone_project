{
 "cells": [
  {
   "cell_type": "markdown",
   "metadata": {},
   "source": [
    "## Load Data"
   ]
  },
  {
   "cell_type": "code",
   "execution_count": 2,
   "metadata": {},
   "outputs": [
    {
     "data": {
      "text/html": [
       "<div>\n",
       "<style scoped>\n",
       "    .dataframe tbody tr th:only-of-type {\n",
       "        vertical-align: middle;\n",
       "    }\n",
       "\n",
       "    .dataframe tbody tr th {\n",
       "        vertical-align: top;\n",
       "    }\n",
       "\n",
       "    .dataframe thead th {\n",
       "        text-align: right;\n",
       "    }\n",
       "</style>\n",
       "<table border=\"1\" class=\"dataframe\">\n",
       "  <thead>\n",
       "    <tr style=\"text-align: right;\">\n",
       "      <th></th>\n",
       "      <th>AMT_ANNUITY</th>\n",
       "      <th>AMT_CREDIT</th>\n",
       "      <th>AMT_GOODS_PRICE</th>\n",
       "      <th>AMT_INCOME_TOTAL</th>\n",
       "      <th>AMT_REQ_CREDIT_BUREAU_DAY</th>\n",
       "      <th>AMT_REQ_CREDIT_BUREAU_HOUR</th>\n",
       "      <th>AMT_REQ_CREDIT_BUREAU_MON</th>\n",
       "      <th>AMT_REQ_CREDIT_BUREAU_QRT</th>\n",
       "      <th>AMT_REQ_CREDIT_BUREAU_WEEK</th>\n",
       "      <th>AMT_REQ_CREDIT_BUREAU_YEAR</th>\n",
       "      <th>...</th>\n",
       "      <th>TARGET</th>\n",
       "      <th>TOTALAREA_MODE</th>\n",
       "      <th>WALLSMATERIAL_MODE</th>\n",
       "      <th>WEEKDAY_APPR_PROCESS_START</th>\n",
       "      <th>YEARS_BEGINEXPLUATATION_AVG</th>\n",
       "      <th>YEARS_BEGINEXPLUATATION_MEDI</th>\n",
       "      <th>YEARS_BEGINEXPLUATATION_MODE</th>\n",
       "      <th>YEARS_BUILD_AVG</th>\n",
       "      <th>YEARS_BUILD_MEDI</th>\n",
       "      <th>YEARS_BUILD_MODE</th>\n",
       "    </tr>\n",
       "  </thead>\n",
       "  <tbody>\n",
       "    <tr>\n",
       "      <th>0</th>\n",
       "      <td>24700.5</td>\n",
       "      <td>406597.5</td>\n",
       "      <td>351000.0</td>\n",
       "      <td>202500.0</td>\n",
       "      <td>0.0</td>\n",
       "      <td>0.0</td>\n",
       "      <td>0.0</td>\n",
       "      <td>0.0</td>\n",
       "      <td>0.0</td>\n",
       "      <td>1.0</td>\n",
       "      <td>...</td>\n",
       "      <td>1.0</td>\n",
       "      <td>0.0149</td>\n",
       "      <td>Stone, brick</td>\n",
       "      <td>WEDNESDAY</td>\n",
       "      <td>0.9722</td>\n",
       "      <td>0.9722</td>\n",
       "      <td>0.9722</td>\n",
       "      <td>0.6192</td>\n",
       "      <td>0.6243</td>\n",
       "      <td>0.6341</td>\n",
       "    </tr>\n",
       "    <tr>\n",
       "      <th>1</th>\n",
       "      <td>35698.5</td>\n",
       "      <td>1293502.5</td>\n",
       "      <td>1129500.0</td>\n",
       "      <td>270000.0</td>\n",
       "      <td>0.0</td>\n",
       "      <td>0.0</td>\n",
       "      <td>0.0</td>\n",
       "      <td>0.0</td>\n",
       "      <td>0.0</td>\n",
       "      <td>0.0</td>\n",
       "      <td>...</td>\n",
       "      <td>0.0</td>\n",
       "      <td>0.0714</td>\n",
       "      <td>Block</td>\n",
       "      <td>MONDAY</td>\n",
       "      <td>0.9851</td>\n",
       "      <td>0.9851</td>\n",
       "      <td>0.9851</td>\n",
       "      <td>0.7960</td>\n",
       "      <td>0.7987</td>\n",
       "      <td>0.8040</td>\n",
       "    </tr>\n",
       "    <tr>\n",
       "      <th>2</th>\n",
       "      <td>6750.0</td>\n",
       "      <td>135000.0</td>\n",
       "      <td>135000.0</td>\n",
       "      <td>67500.0</td>\n",
       "      <td>0.0</td>\n",
       "      <td>0.0</td>\n",
       "      <td>0.0</td>\n",
       "      <td>0.0</td>\n",
       "      <td>0.0</td>\n",
       "      <td>0.0</td>\n",
       "      <td>...</td>\n",
       "      <td>0.0</td>\n",
       "      <td>NaN</td>\n",
       "      <td>NaN</td>\n",
       "      <td>MONDAY</td>\n",
       "      <td>NaN</td>\n",
       "      <td>NaN</td>\n",
       "      <td>NaN</td>\n",
       "      <td>NaN</td>\n",
       "      <td>NaN</td>\n",
       "      <td>NaN</td>\n",
       "    </tr>\n",
       "    <tr>\n",
       "      <th>3</th>\n",
       "      <td>29686.5</td>\n",
       "      <td>312682.5</td>\n",
       "      <td>297000.0</td>\n",
       "      <td>135000.0</td>\n",
       "      <td>NaN</td>\n",
       "      <td>NaN</td>\n",
       "      <td>NaN</td>\n",
       "      <td>NaN</td>\n",
       "      <td>NaN</td>\n",
       "      <td>NaN</td>\n",
       "      <td>...</td>\n",
       "      <td>0.0</td>\n",
       "      <td>NaN</td>\n",
       "      <td>NaN</td>\n",
       "      <td>WEDNESDAY</td>\n",
       "      <td>NaN</td>\n",
       "      <td>NaN</td>\n",
       "      <td>NaN</td>\n",
       "      <td>NaN</td>\n",
       "      <td>NaN</td>\n",
       "      <td>NaN</td>\n",
       "    </tr>\n",
       "    <tr>\n",
       "      <th>4</th>\n",
       "      <td>21865.5</td>\n",
       "      <td>513000.0</td>\n",
       "      <td>513000.0</td>\n",
       "      <td>121500.0</td>\n",
       "      <td>0.0</td>\n",
       "      <td>0.0</td>\n",
       "      <td>0.0</td>\n",
       "      <td>0.0</td>\n",
       "      <td>0.0</td>\n",
       "      <td>0.0</td>\n",
       "      <td>...</td>\n",
       "      <td>0.0</td>\n",
       "      <td>NaN</td>\n",
       "      <td>NaN</td>\n",
       "      <td>THURSDAY</td>\n",
       "      <td>NaN</td>\n",
       "      <td>NaN</td>\n",
       "      <td>NaN</td>\n",
       "      <td>NaN</td>\n",
       "      <td>NaN</td>\n",
       "      <td>NaN</td>\n",
       "    </tr>\n",
       "  </tbody>\n",
       "</table>\n",
       "<p>5 rows × 122 columns</p>\n",
       "</div>"
      ],
      "text/plain": [
       "   AMT_ANNUITY  AMT_CREDIT  AMT_GOODS_PRICE  AMT_INCOME_TOTAL  \\\n",
       "0      24700.5    406597.5         351000.0          202500.0   \n",
       "1      35698.5   1293502.5        1129500.0          270000.0   \n",
       "2       6750.0    135000.0         135000.0           67500.0   \n",
       "3      29686.5    312682.5         297000.0          135000.0   \n",
       "4      21865.5    513000.0         513000.0          121500.0   \n",
       "\n",
       "   AMT_REQ_CREDIT_BUREAU_DAY  AMT_REQ_CREDIT_BUREAU_HOUR  \\\n",
       "0                        0.0                         0.0   \n",
       "1                        0.0                         0.0   \n",
       "2                        0.0                         0.0   \n",
       "3                        NaN                         NaN   \n",
       "4                        0.0                         0.0   \n",
       "\n",
       "   AMT_REQ_CREDIT_BUREAU_MON  AMT_REQ_CREDIT_BUREAU_QRT  \\\n",
       "0                        0.0                        0.0   \n",
       "1                        0.0                        0.0   \n",
       "2                        0.0                        0.0   \n",
       "3                        NaN                        NaN   \n",
       "4                        0.0                        0.0   \n",
       "\n",
       "   AMT_REQ_CREDIT_BUREAU_WEEK  AMT_REQ_CREDIT_BUREAU_YEAR        ...         \\\n",
       "0                         0.0                         1.0        ...          \n",
       "1                         0.0                         0.0        ...          \n",
       "2                         0.0                         0.0        ...          \n",
       "3                         NaN                         NaN        ...          \n",
       "4                         0.0                         0.0        ...          \n",
       "\n",
       "   TARGET  TOTALAREA_MODE  WALLSMATERIAL_MODE  WEEKDAY_APPR_PROCESS_START  \\\n",
       "0     1.0          0.0149        Stone, brick                   WEDNESDAY   \n",
       "1     0.0          0.0714               Block                      MONDAY   \n",
       "2     0.0             NaN                 NaN                      MONDAY   \n",
       "3     0.0             NaN                 NaN                   WEDNESDAY   \n",
       "4     0.0             NaN                 NaN                    THURSDAY   \n",
       "\n",
       "   YEARS_BEGINEXPLUATATION_AVG  YEARS_BEGINEXPLUATATION_MEDI  \\\n",
       "0                       0.9722                        0.9722   \n",
       "1                       0.9851                        0.9851   \n",
       "2                          NaN                           NaN   \n",
       "3                          NaN                           NaN   \n",
       "4                          NaN                           NaN   \n",
       "\n",
       "   YEARS_BEGINEXPLUATATION_MODE  YEARS_BUILD_AVG YEARS_BUILD_MEDI  \\\n",
       "0                        0.9722           0.6192           0.6243   \n",
       "1                        0.9851           0.7960           0.7987   \n",
       "2                           NaN              NaN              NaN   \n",
       "3                           NaN              NaN              NaN   \n",
       "4                           NaN              NaN              NaN   \n",
       "\n",
       "   YEARS_BUILD_MODE  \n",
       "0            0.6341  \n",
       "1            0.8040  \n",
       "2               NaN  \n",
       "3               NaN  \n",
       "4               NaN  \n",
       "\n",
       "[5 rows x 122 columns]"
      ]
     },
     "metadata": {},
     "output_type": "display_data"
    }
   ],
   "source": [
    "import numpy as np\n",
    "import pandas as pd\n",
    "import matplotlib.pyplot as plt       # Standard plotting library\n",
    "\n",
    "\n",
    "# Pretty display for notebooks\n",
    "%matplotlib inline\n",
    "\n",
    "# Load the Boston housing dataset\n",
    "application_train_ = pd.read_csv('data/application_train.csv')\n",
    "train_size_ = application_train_.shape[0]\n",
    "application_test_ = pd.read_csv('data/application_test.csv')\n",
    "data = pd.concat((application_train_, application_test_)).reset_index(drop=True)\n",
    "\n",
    "# Success - Display the first record\n",
    "display(data.head(n=5))\n"
   ]
  },
  {
   "cell_type": "code",
   "execution_count": 3,
   "metadata": {},
   "outputs": [
    {
     "name": "stdout",
     "output_type": "stream",
     "text": [
      "Total number of loan applications: 356255\n",
      "Total number of loan application that were fully paid: 282686\n",
      "Total number of loan applications that defaulted: 24825\n",
      "Total number of applicants with income greater than 100K: 284721\n",
      "Total number of applicants with income below 100K: 71534\n"
     ]
    }
   ],
   "source": [
    "# Total number of records\n",
    "n_records = data.shape[0]\n",
    "\n",
    "# Total of repaid loans\n",
    "n_paid = len(np.where(data['TARGET'] == 0)[0])\n",
    "\n",
    "# Total of default loans\n",
    "n_default = len(np.where(data['TARGET'] == 1)[0])\n",
    "\n",
    "#Total of applicatns with income greater than 100K\n",
    "n_greater_100k = len(np.where(data['AMT_INCOME_TOTAL'] >= 100000.0 )[0])\n",
    "\n",
    "#Total of applicatns with income below than 100K\n",
    "n_below_100k = len(np.where(data['AMT_INCOME_TOTAL'] < 100000.0 )[0])\n",
    "\n",
    "print(\"Total number of loan applications: {}\".format(n_records))\n",
    "print(\"Total number of loan application that were fully paid: {}\".format(n_paid))\n",
    "print(\"Total number of loan applications that defaulted: {}\".format(n_default))\n",
    "print(\"Total number of applicants with income greater than 100K: {}\".format(n_greater_100k))\n",
    "print(\"Total number of applicants with income below 100K: {}\".format(n_below_100k))\n"
   ]
  },
  {
   "cell_type": "code",
   "execution_count": 4,
   "metadata": {},
   "outputs": [
    {
     "data": {
      "text/html": [
       "<div>\n",
       "<style scoped>\n",
       "    .dataframe tbody tr th:only-of-type {\n",
       "        vertical-align: middle;\n",
       "    }\n",
       "\n",
       "    .dataframe tbody tr th {\n",
       "        vertical-align: top;\n",
       "    }\n",
       "\n",
       "    .dataframe thead th {\n",
       "        text-align: right;\n",
       "    }\n",
       "</style>\n",
       "<table border=\"1\" class=\"dataframe\">\n",
       "  <thead>\n",
       "    <tr style=\"text-align: right;\">\n",
       "      <th></th>\n",
       "      <th>AMT_ANNUITY</th>\n",
       "      <th>AMT_CREDIT</th>\n",
       "      <th>AMT_GOODS_PRICE</th>\n",
       "      <th>AMT_INCOME_TOTAL</th>\n",
       "      <th>AMT_REQ_CREDIT_BUREAU_DAY</th>\n",
       "      <th>AMT_REQ_CREDIT_BUREAU_HOUR</th>\n",
       "      <th>AMT_REQ_CREDIT_BUREAU_MON</th>\n",
       "      <th>AMT_REQ_CREDIT_BUREAU_QRT</th>\n",
       "      <th>AMT_REQ_CREDIT_BUREAU_WEEK</th>\n",
       "      <th>AMT_REQ_CREDIT_BUREAU_YEAR</th>\n",
       "      <th>...</th>\n",
       "      <th>REG_REGION_NOT_WORK_REGION</th>\n",
       "      <th>SK_ID_CURR</th>\n",
       "      <th>TARGET</th>\n",
       "      <th>TOTALAREA_MODE</th>\n",
       "      <th>YEARS_BEGINEXPLUATATION_AVG</th>\n",
       "      <th>YEARS_BEGINEXPLUATATION_MEDI</th>\n",
       "      <th>YEARS_BEGINEXPLUATATION_MODE</th>\n",
       "      <th>YEARS_BUILD_AVG</th>\n",
       "      <th>YEARS_BUILD_MEDI</th>\n",
       "      <th>YEARS_BUILD_MODE</th>\n",
       "    </tr>\n",
       "  </thead>\n",
       "  <tbody>\n",
       "    <tr>\n",
       "      <th>count</th>\n",
       "      <td>356219.000000</td>\n",
       "      <td>3.562550e+05</td>\n",
       "      <td>3.559770e+05</td>\n",
       "      <td>3.562550e+05</td>\n",
       "      <td>308687.000000</td>\n",
       "      <td>308687.000000</td>\n",
       "      <td>308687.000000</td>\n",
       "      <td>308687.000000</td>\n",
       "      <td>308687.000000</td>\n",
       "      <td>308687.000000</td>\n",
       "      <td>...</td>\n",
       "      <td>356255.000000</td>\n",
       "      <td>356255.000000</td>\n",
       "      <td>307511.000000</td>\n",
       "      <td>185200.000000</td>\n",
       "      <td>183392.000000</td>\n",
       "      <td>183392.000000</td>\n",
       "      <td>183392.000000</td>\n",
       "      <td>119949.000000</td>\n",
       "      <td>119949.000000</td>\n",
       "      <td>119949.000000</td>\n",
       "    </tr>\n",
       "    <tr>\n",
       "      <th>mean</th>\n",
       "      <td>27425.560657</td>\n",
       "      <td>5.877674e+05</td>\n",
       "      <td>5.280200e+05</td>\n",
       "      <td>1.701161e+05</td>\n",
       "      <td>0.006281</td>\n",
       "      <td>0.005808</td>\n",
       "      <td>0.231697</td>\n",
       "      <td>0.304399</td>\n",
       "      <td>0.029995</td>\n",
       "      <td>1.911564</td>\n",
       "      <td>...</td>\n",
       "      <td>0.051371</td>\n",
       "      <td>278128.000000</td>\n",
       "      <td>0.080729</td>\n",
       "      <td>0.103193</td>\n",
       "      <td>0.977889</td>\n",
       "      <td>0.977903</td>\n",
       "      <td>0.977239</td>\n",
       "      <td>0.752283</td>\n",
       "      <td>0.755548</td>\n",
       "      <td>0.759452</td>\n",
       "    </tr>\n",
       "    <tr>\n",
       "      <th>std</th>\n",
       "      <td>14732.808190</td>\n",
       "      <td>3.986237e+05</td>\n",
       "      <td>3.660650e+05</td>\n",
       "      <td>2.235068e+05</td>\n",
       "      <td>0.104250</td>\n",
       "      <td>0.079736</td>\n",
       "      <td>0.855949</td>\n",
       "      <td>0.786915</td>\n",
       "      <td>0.191374</td>\n",
       "      <td>1.865338</td>\n",
       "      <td>...</td>\n",
       "      <td>0.220753</td>\n",
       "      <td>102842.104413</td>\n",
       "      <td>0.272419</td>\n",
       "      <td>0.108041</td>\n",
       "      <td>0.057929</td>\n",
       "      <td>0.058562</td>\n",
       "      <td>0.063165</td>\n",
       "      <td>0.113267</td>\n",
       "      <td>0.112057</td>\n",
       "      <td>0.110112</td>\n",
       "    </tr>\n",
       "    <tr>\n",
       "      <th>min</th>\n",
       "      <td>1615.500000</td>\n",
       "      <td>4.500000e+04</td>\n",
       "      <td>4.050000e+04</td>\n",
       "      <td>2.565000e+04</td>\n",
       "      <td>0.000000</td>\n",
       "      <td>0.000000</td>\n",
       "      <td>0.000000</td>\n",
       "      <td>0.000000</td>\n",
       "      <td>0.000000</td>\n",
       "      <td>0.000000</td>\n",
       "      <td>...</td>\n",
       "      <td>0.000000</td>\n",
       "      <td>100001.000000</td>\n",
       "      <td>0.000000</td>\n",
       "      <td>0.000000</td>\n",
       "      <td>0.000000</td>\n",
       "      <td>0.000000</td>\n",
       "      <td>0.000000</td>\n",
       "      <td>0.000000</td>\n",
       "      <td>0.000000</td>\n",
       "      <td>0.000000</td>\n",
       "    </tr>\n",
       "    <tr>\n",
       "      <th>25%</th>\n",
       "      <td>16731.000000</td>\n",
       "      <td>2.700000e+05</td>\n",
       "      <td>2.340000e+05</td>\n",
       "      <td>1.125000e+05</td>\n",
       "      <td>0.000000</td>\n",
       "      <td>0.000000</td>\n",
       "      <td>0.000000</td>\n",
       "      <td>0.000000</td>\n",
       "      <td>0.000000</td>\n",
       "      <td>0.000000</td>\n",
       "      <td>...</td>\n",
       "      <td>0.000000</td>\n",
       "      <td>189064.500000</td>\n",
       "      <td>0.000000</td>\n",
       "      <td>0.041500</td>\n",
       "      <td>0.976700</td>\n",
       "      <td>0.976700</td>\n",
       "      <td>0.976700</td>\n",
       "      <td>0.687200</td>\n",
       "      <td>0.691400</td>\n",
       "      <td>0.699400</td>\n",
       "    </tr>\n",
       "    <tr>\n",
       "      <th>50%</th>\n",
       "      <td>25078.500000</td>\n",
       "      <td>5.002110e+05</td>\n",
       "      <td>4.500000e+05</td>\n",
       "      <td>1.530000e+05</td>\n",
       "      <td>0.000000</td>\n",
       "      <td>0.000000</td>\n",
       "      <td>0.000000</td>\n",
       "      <td>0.000000</td>\n",
       "      <td>0.000000</td>\n",
       "      <td>1.000000</td>\n",
       "      <td>...</td>\n",
       "      <td>0.000000</td>\n",
       "      <td>278128.000000</td>\n",
       "      <td>0.000000</td>\n",
       "      <td>0.069000</td>\n",
       "      <td>0.981600</td>\n",
       "      <td>0.981600</td>\n",
       "      <td>0.981600</td>\n",
       "      <td>0.755200</td>\n",
       "      <td>0.758500</td>\n",
       "      <td>0.764800</td>\n",
       "    </tr>\n",
       "    <tr>\n",
       "      <th>75%</th>\n",
       "      <td>34960.500000</td>\n",
       "      <td>7.975575e+05</td>\n",
       "      <td>6.750000e+05</td>\n",
       "      <td>2.025000e+05</td>\n",
       "      <td>0.000000</td>\n",
       "      <td>0.000000</td>\n",
       "      <td>0.000000</td>\n",
       "      <td>0.000000</td>\n",
       "      <td>0.000000</td>\n",
       "      <td>3.000000</td>\n",
       "      <td>...</td>\n",
       "      <td>0.000000</td>\n",
       "      <td>367191.500000</td>\n",
       "      <td>0.000000</td>\n",
       "      <td>0.128700</td>\n",
       "      <td>0.986600</td>\n",
       "      <td>0.986600</td>\n",
       "      <td>0.986600</td>\n",
       "      <td>0.823200</td>\n",
       "      <td>0.825600</td>\n",
       "      <td>0.823600</td>\n",
       "    </tr>\n",
       "    <tr>\n",
       "      <th>max</th>\n",
       "      <td>258025.500000</td>\n",
       "      <td>4.050000e+06</td>\n",
       "      <td>4.050000e+06</td>\n",
       "      <td>1.170000e+08</td>\n",
       "      <td>9.000000</td>\n",
       "      <td>4.000000</td>\n",
       "      <td>27.000000</td>\n",
       "      <td>261.000000</td>\n",
       "      <td>8.000000</td>\n",
       "      <td>25.000000</td>\n",
       "      <td>...</td>\n",
       "      <td>1.000000</td>\n",
       "      <td>456255.000000</td>\n",
       "      <td>1.000000</td>\n",
       "      <td>1.000000</td>\n",
       "      <td>1.000000</td>\n",
       "      <td>1.000000</td>\n",
       "      <td>1.000000</td>\n",
       "      <td>1.000000</td>\n",
       "      <td>1.000000</td>\n",
       "      <td>1.000000</td>\n",
       "    </tr>\n",
       "  </tbody>\n",
       "</table>\n",
       "<p>8 rows × 106 columns</p>\n",
       "</div>"
      ],
      "text/plain": [
       "         AMT_ANNUITY    AMT_CREDIT  AMT_GOODS_PRICE  AMT_INCOME_TOTAL  \\\n",
       "count  356219.000000  3.562550e+05     3.559770e+05      3.562550e+05   \n",
       "mean    27425.560657  5.877674e+05     5.280200e+05      1.701161e+05   \n",
       "std     14732.808190  3.986237e+05     3.660650e+05      2.235068e+05   \n",
       "min      1615.500000  4.500000e+04     4.050000e+04      2.565000e+04   \n",
       "25%     16731.000000  2.700000e+05     2.340000e+05      1.125000e+05   \n",
       "50%     25078.500000  5.002110e+05     4.500000e+05      1.530000e+05   \n",
       "75%     34960.500000  7.975575e+05     6.750000e+05      2.025000e+05   \n",
       "max    258025.500000  4.050000e+06     4.050000e+06      1.170000e+08   \n",
       "\n",
       "       AMT_REQ_CREDIT_BUREAU_DAY  AMT_REQ_CREDIT_BUREAU_HOUR  \\\n",
       "count              308687.000000               308687.000000   \n",
       "mean                    0.006281                    0.005808   \n",
       "std                     0.104250                    0.079736   \n",
       "min                     0.000000                    0.000000   \n",
       "25%                     0.000000                    0.000000   \n",
       "50%                     0.000000                    0.000000   \n",
       "75%                     0.000000                    0.000000   \n",
       "max                     9.000000                    4.000000   \n",
       "\n",
       "       AMT_REQ_CREDIT_BUREAU_MON  AMT_REQ_CREDIT_BUREAU_QRT  \\\n",
       "count              308687.000000              308687.000000   \n",
       "mean                    0.231697                   0.304399   \n",
       "std                     0.855949                   0.786915   \n",
       "min                     0.000000                   0.000000   \n",
       "25%                     0.000000                   0.000000   \n",
       "50%                     0.000000                   0.000000   \n",
       "75%                     0.000000                   0.000000   \n",
       "max                    27.000000                 261.000000   \n",
       "\n",
       "       AMT_REQ_CREDIT_BUREAU_WEEK  AMT_REQ_CREDIT_BUREAU_YEAR  \\\n",
       "count               308687.000000               308687.000000   \n",
       "mean                     0.029995                    1.911564   \n",
       "std                      0.191374                    1.865338   \n",
       "min                      0.000000                    0.000000   \n",
       "25%                      0.000000                    0.000000   \n",
       "50%                      0.000000                    1.000000   \n",
       "75%                      0.000000                    3.000000   \n",
       "max                      8.000000                   25.000000   \n",
       "\n",
       "             ...         REG_REGION_NOT_WORK_REGION     SK_ID_CURR  \\\n",
       "count        ...                      356255.000000  356255.000000   \n",
       "mean         ...                           0.051371  278128.000000   \n",
       "std          ...                           0.220753  102842.104413   \n",
       "min          ...                           0.000000  100001.000000   \n",
       "25%          ...                           0.000000  189064.500000   \n",
       "50%          ...                           0.000000  278128.000000   \n",
       "75%          ...                           0.000000  367191.500000   \n",
       "max          ...                           1.000000  456255.000000   \n",
       "\n",
       "              TARGET  TOTALAREA_MODE  YEARS_BEGINEXPLUATATION_AVG  \\\n",
       "count  307511.000000   185200.000000                183392.000000   \n",
       "mean        0.080729        0.103193                     0.977889   \n",
       "std         0.272419        0.108041                     0.057929   \n",
       "min         0.000000        0.000000                     0.000000   \n",
       "25%         0.000000        0.041500                     0.976700   \n",
       "50%         0.000000        0.069000                     0.981600   \n",
       "75%         0.000000        0.128700                     0.986600   \n",
       "max         1.000000        1.000000                     1.000000   \n",
       "\n",
       "       YEARS_BEGINEXPLUATATION_MEDI  YEARS_BEGINEXPLUATATION_MODE  \\\n",
       "count                 183392.000000                 183392.000000   \n",
       "mean                       0.977903                      0.977239   \n",
       "std                        0.058562                      0.063165   \n",
       "min                        0.000000                      0.000000   \n",
       "25%                        0.976700                      0.976700   \n",
       "50%                        0.981600                      0.981600   \n",
       "75%                        0.986600                      0.986600   \n",
       "max                        1.000000                      1.000000   \n",
       "\n",
       "       YEARS_BUILD_AVG  YEARS_BUILD_MEDI  YEARS_BUILD_MODE  \n",
       "count    119949.000000     119949.000000     119949.000000  \n",
       "mean          0.752283          0.755548          0.759452  \n",
       "std           0.113267          0.112057          0.110112  \n",
       "min           0.000000          0.000000          0.000000  \n",
       "25%           0.687200          0.691400          0.699400  \n",
       "50%           0.755200          0.758500          0.764800  \n",
       "75%           0.823200          0.825600          0.823600  \n",
       "max           1.000000          1.000000          1.000000  \n",
       "\n",
       "[8 rows x 106 columns]"
      ]
     },
     "metadata": {},
     "output_type": "display_data"
    }
   ],
   "source": [
    "display(data.describe())"
   ]
  },
  {
   "cell_type": "markdown",
   "metadata": {},
   "source": [
    "We can see that we have many columns that have high variance"
   ]
  },
  {
   "cell_type": "markdown",
   "metadata": {},
   "source": [
    "### Handle Missing Data\n"
   ]
  },
  {
   "cell_type": "markdown",
   "metadata": {},
   "source": [
    "Now that we have successfully transformed skewed data in our dataset, we need to also normalize all numerical features in the data set. This can be done by applying some type of scaling on the numerical features. Normalization ensures data are treated equally during supervised learning by having equal scale.\n",
    "\n",
    "Before we start normalizing our dataset, we need to deal with missing data. We will need to either remove or correct them depending on the number of missing values for each feature. "
   ]
  },
  {
   "cell_type": "code",
   "execution_count": 5,
   "metadata": {},
   "outputs": [
    {
     "name": "stdout",
     "output_type": "stream",
     "text": [
      "Missing 36 from AMT_ANNUITY which represents 0.01011%\n",
      "Missing 278 from AMT_GOODS_PRICE which represents 0.07803%\n",
      "Missing 47568 from AMT_REQ_CREDIT_BUREAU_DAY which represents 13.35%\n",
      "Missing 47568 from AMT_REQ_CREDIT_BUREAU_HOUR which represents 13.35%\n",
      "Missing 47568 from AMT_REQ_CREDIT_BUREAU_MON which represents 13.35%\n",
      "Missing 47568 from AMT_REQ_CREDIT_BUREAU_QRT which represents 13.35%\n",
      "Missing 47568 from AMT_REQ_CREDIT_BUREAU_WEEK which represents 13.35%\n",
      "Missing 47568 from AMT_REQ_CREDIT_BUREAU_YEAR which represents 13.35%\n",
      "Missing 179948 from APARTMENTS_AVG which represents 50.51%\n",
      "Missing 179948 from APARTMENTS_MEDI which represents 50.51%\n",
      "Missing 179948 from APARTMENTS_MODE which represents 50.51%\n",
      "Missing 207584 from BASEMENTAREA_AVG which represents 58.27%\n",
      "Missing 207584 from BASEMENTAREA_MEDI which represents 58.27%\n",
      "Missing 207584 from BASEMENTAREA_MODE which represents 58.27%\n",
      "Missing 2 from CNT_FAM_MEMBERS which represents 0.0005614%\n",
      "Missing 248360 from COMMONAREA_AVG which represents 69.71%\n",
      "Missing 248360 from COMMONAREA_MEDI which represents 69.71%\n",
      "Missing 248360 from COMMONAREA_MODE which represents 69.71%\n",
      "Missing 1 from DAYS_LAST_PHONE_CHANGE which represents 0.0002807%\n",
      "Missing 1050 from DEF_30_CNT_SOCIAL_CIRCLE which represents 0.2947%\n",
      "Missing 1050 from DEF_60_CNT_SOCIAL_CIRCLE which represents 0.2947%\n",
      "Missing 189080 from ELEVATORS_AVG which represents 53.07%\n",
      "Missing 189080 from ELEVATORS_MEDI which represents 53.07%\n",
      "Missing 189080 from ELEVATORS_MODE which represents 53.07%\n",
      "Missing 167964 from EMERGENCYSTATE_MODE which represents 47.15%\n",
      "Missing 178407 from ENTRANCES_AVG which represents 50.08%\n",
      "Missing 178407 from ENTRANCES_MEDI which represents 50.08%\n",
      "Missing 178407 from ENTRANCES_MODE which represents 50.08%\n",
      "Missing 193910 from EXT_SOURCE_1 which represents 54.43%\n",
      "Missing 668 from EXT_SOURCE_2 which represents 0.1875%\n",
      "Missing 69633 from EXT_SOURCE_3 which represents 19.55%\n",
      "Missing 176341 from FLOORSMAX_AVG which represents 49.5%\n",
      "Missing 176341 from FLOORSMAX_MEDI which represents 49.5%\n",
      "Missing 176341 from FLOORSMAX_MODE which represents 49.5%\n",
      "Missing 241108 from FLOORSMIN_AVG which represents 67.68%\n",
      "Missing 241108 from FLOORSMIN_MEDI which represents 67.68%\n",
      "Missing 241108 from FLOORSMIN_MODE which represents 67.68%\n",
      "Missing 243092 from FONDKAPREMONT_MODE which represents 68.24%\n",
      "Missing 177916 from HOUSETYPE_MODE which represents 49.94%\n",
      "Missing 210844 from LANDAREA_AVG which represents 59.18%\n",
      "Missing 210844 from LANDAREA_MEDI which represents 59.18%\n",
      "Missing 210844 from LANDAREA_MODE which represents 59.18%\n",
      "Missing 242979 from LIVINGAPARTMENTS_AVG which represents 68.2%\n",
      "Missing 242979 from LIVINGAPARTMENTS_MEDI which represents 68.2%\n",
      "Missing 242979 from LIVINGAPARTMENTS_MODE which represents 68.2%\n",
      "Missing 177902 from LIVINGAREA_AVG which represents 49.94%\n",
      "Missing 177902 from LIVINGAREA_MEDI which represents 49.94%\n",
      "Missing 177902 from LIVINGAREA_MODE which represents 49.94%\n",
      "Missing 2203 from NAME_TYPE_SUITE which represents 0.6184%\n",
      "Missing 246861 from NONLIVINGAPARTMENTS_AVG which represents 69.29%\n",
      "Missing 246861 from NONLIVINGAPARTMENTS_MEDI which represents 69.29%\n",
      "Missing 246861 from NONLIVINGAPARTMENTS_MODE which represents 69.29%\n",
      "Missing 195766 from NONLIVINGAREA_AVG which represents 54.95%\n",
      "Missing 195766 from NONLIVINGAREA_MEDI which represents 54.95%\n",
      "Missing 195766 from NONLIVINGAREA_MODE which represents 54.95%\n",
      "Missing 1050 from OBS_30_CNT_SOCIAL_CIRCLE which represents 0.2947%\n",
      "Missing 1050 from OBS_60_CNT_SOCIAL_CIRCLE which represents 0.2947%\n",
      "Missing 111996 from OCCUPATION_TYPE which represents 31.44%\n",
      "Missing 235241 from OWN_CAR_AGE which represents 66.03%\n",
      "Missing 48744 from TARGET which represents 13.68%\n",
      "Missing 171055 from TOTALAREA_MODE which represents 48.01%\n",
      "Missing 180234 from WALLSMATERIAL_MODE which represents 50.59%\n",
      "Missing 172863 from YEARS_BEGINEXPLUATATION_AVG which represents 48.52%\n",
      "Missing 172863 from YEARS_BEGINEXPLUATATION_MEDI which represents 48.52%\n",
      "Missing 172863 from YEARS_BEGINEXPLUATATION_MODE which represents 48.52%\n",
      "Missing 236306 from YEARS_BUILD_AVG which represents 66.33%\n",
      "Missing 236306 from YEARS_BUILD_MEDI which represents 66.33%\n",
      "Missing 236306 from YEARS_BUILD_MODE which represents 66.33%\n"
     ]
    }
   ],
   "source": [
    "for feature in data: \n",
    "    missing_total = data[feature].isnull().sum()\n",
    "    if missing_total > 0:\n",
    "        print(\"Missing\", missing_total, 'from', feature, 'which represents {:.04}%'.format((missing_total / len(data))*100))"
   ]
  },
  {
   "cell_type": "markdown",
   "metadata": {},
   "source": [
    "From above lines, we can see that we are missing many feature values. However, we're not interested in all of the features. Therefore, we will only preprocess the below features and make sure they're fully processed. \n",
    "AMT_ANNUITY\n",
    "\n",
    "        - Missing 12 from AMT_ANNUITY which represents 0.003902%\n",
    "        - Missing 278 from AMT_GOODS_PRICE which represents 0.0904%\n",
    "        - Missing 1292 from NAME_TYPE_SUITE which represents 0.4201%\n",
    "        - Missing 202929 from OWN_CAR_AGE which represents 65.99%\n",
    "        - Missing 96391 from OCCUPATION_TYPE which represents 31.35%\n",
    "        - Missing 2 from CNT_FAM_MEMBERS which represents 0.0006504%\n",
    "\n",
    "Lucky for us that half of the features we're interested in don't have too many missing values. We will delete all rows with missing values for all the above features except NAME_TYPE_SUITE, OWN_CAR_AGE and OCCUPATION_TYPE.\n",
    "\n",
    "NAME_TYPE_SUITE missing values count is quite large and may affect our final results in case we delete the missing feature values. We wil replace the missing values with the most common one since it is a categorical feature\n",
    "\n",
    "OWN_CAR_AGE is missing values for those whom do not own a car. Therefore, we will replace missing values with 0 as an indication for not owning a car."
   ]
  },
  {
   "cell_type": "code",
   "execution_count": 6,
   "metadata": {},
   "outputs": [
    {
     "name": "stdout",
     "output_type": "stream",
     "text": [
      "Let's find out the most common feature value for NAME_TYPE_SUITE...\n",
      "\n",
      "Unaccompanied      288253\n",
      "Family              46030\n",
      "Spouse, partner     12818\n",
      "Children             3675\n",
      "Other_B              1981\n",
      "Other_A               975\n",
      "Group of people       320\n",
      "Name: NAME_TYPE_SUITE, dtype: int64\n",
      "\n",
      "Now dataset has 0 NaN values for NAME_TYPE_SUITE\n"
     ]
    }
   ],
   "source": [
    "print(\"Let's find out the most common feature value for NAME_TYPE_SUITE...\\n\")\n",
    "print(data['NAME_TYPE_SUITE'].value_counts())\n",
    "data['NAME_TYPE_SUITE'] = data['NAME_TYPE_SUITE'].fillna('Unaccompanied')\n",
    "print('\\nNow dataset has', data['NAME_TYPE_SUITE'].isnull().sum(), 'NaN values for NAME_TYPE_SUITE')\n"
   ]
  },
  {
   "cell_type": "code",
   "execution_count": 7,
   "metadata": {},
   "outputs": [
    {
     "name": "stdout",
     "output_type": "stream",
     "text": [
      "Dataset is missing 235241 applicants car age\n",
      "Completed replacement of 235241 NaN values\n"
     ]
    }
   ],
   "source": [
    "#Handle OWN_CAR_AGE Missing values. \n",
    "car_owners_total = len(np.where(data['FLAG_OWN_CAR'] == 'N')[0]) # Count of applicants not owning a car\n",
    "missing_car_age_total = data['OWN_CAR_AGE'].isnull().sum() # Count of records missing car age \n",
    "\n",
    "#Replace NaN values with 0s for those applicants not owning a car\n",
    "data['OWN_CAR_AGE'] = data.apply( \n",
    "    lambda row: 0 if row['FLAG_OWN_CAR'] == 'N' else (0 if row['FLAG_OWN_CAR'] == 'Y' and np.isnan(row['OWN_CAR_AGE']) else row['OWN_CAR_AGE']),\n",
    "    axis=1\n",
    ")\n",
    "\n",
    "missing_car_age_total_AFTER_replacement = data['OWN_CAR_AGE'].isnull().sum()\n",
    "\n",
    "print('Dataset is missing', missing_car_age_total, \"applicants car age\")\n",
    "print('Completed replacement of', missing_car_age_total - missing_car_age_total_AFTER_replacement,'NaN values')\n"
   ]
  },
  {
   "cell_type": "code",
   "execution_count": 8,
   "metadata": {},
   "outputs": [],
   "source": [
    "#Handle missing Occupation type\n",
    "missing_occupation = data[data['OCCUPATION_TYPE'].isnull()]\n",
    "missing_occupation['NAME_INCOME_TYPE'].value_counts()\n",
    "pen = data[data['NAME_INCOME_TYPE'] == 'Pensioner']"
   ]
  },
  {
   "cell_type": "code",
   "execution_count": 9,
   "metadata": {},
   "outputs": [],
   "source": [
    "#Remove records where missing features are less than 5% of total dataset\n",
    "target = data['TARGET'] # test dataset contains NaNs. lets not drop this column \n",
    "data = data.dropna(subset=['AMT_ANNUITY', 'AMT_GOODS_PRICE', 'CNT_FAM_MEMBERS', 'DAYS_LAST_PHONE_CHANGE'])\n",
    "\n",
    "a = data.isnull().sum()\n",
    "nan_columns = a.index[a > 0].tolist()\n",
    "#drop other columns containing NaN values\n",
    "data = data.drop(columns=nan_columns)\n",
    "data['TARGET'] = target\n"
   ]
  },
  {
   "cell_type": "code",
   "execution_count": 10,
   "metadata": {},
   "outputs": [
    {
     "data": {
      "text/plain": [
       "['CODE_GENDER',\n",
       " 'FLAG_OWN_CAR',\n",
       " 'FLAG_OWN_REALTY',\n",
       " 'NAME_CONTRACT_TYPE',\n",
       " 'NAME_EDUCATION_TYPE',\n",
       " 'NAME_FAMILY_STATUS',\n",
       " 'NAME_HOUSING_TYPE',\n",
       " 'NAME_INCOME_TYPE',\n",
       " 'NAME_TYPE_SUITE',\n",
       " 'ORGANIZATION_TYPE',\n",
       " 'WEEKDAY_APPR_PROCESS_START']"
      ]
     },
     "execution_count": 10,
     "metadata": {},
     "output_type": "execute_result"
    }
   ],
   "source": [
    "[col for col in data if data[col].dtype == 'object']"
   ]
  },
  {
   "cell_type": "code",
   "execution_count": 19,
   "metadata": {},
   "outputs": [],
   "source": [
    "#replace XNA gender with F since they're the most common\n",
    "data['CODE_GENDER'].replace('XNA', 'F', inplace=True)"
   ]
  },
  {
   "cell_type": "code",
   "execution_count": 24,
   "metadata": {},
   "outputs": [
    {
     "data": {
      "text/plain": [
       "array(['Unaccompanied', 'Family', 'Spouse, partner', 'Children',\n",
       "       'Other_A', 'Other_B', 'Group of people'], dtype=object)"
      ]
     },
     "execution_count": 24,
     "metadata": {},
     "output_type": "execute_result"
    }
   ],
   "source": [
    "data['NAME_TYPE_SUITE'].unique()"
   ]
  },
  {
   "cell_type": "code",
   "execution_count": 689,
   "metadata": {},
   "outputs": [],
   "source": [
    "# Feature engineering\n",
    "data['DAYS_EMPLOYED'] = data['DAYS_EMPLOYED'].abs()\n",
    "data[\"AGE\"] = data[\"DAYS_BIRTH\"].abs()//365\n",
    "data['Long_employment'] = (data['DAYS_EMPLOYED'] < (-365)*5).astype(int) #True if >= 5 years of employment, False otherwist\n",
    "data['Age_38up'] = (data['DAYS_BIRTH'] < (-365*38)).astype(int) #True if older than 38, False otherwise\n",
    "\n",
    "# Ratio feature engineering\n",
    "data['ratio_annuity_income'] = data['AMT_ANNUITY'] / data['AMT_INCOME_TOTAL']\n",
    "data['ratio_car_to_birth'] = data['OWN_CAR_AGE'] / data['DAYS_BIRTH']\n",
    "data['ratio_car_to_employ'] = data['OWN_CAR_AGE'] / data['DAYS_EMPLOYED']\n",
    "data['ratio_children'] = data['CNT_CHILDREN'] / data['CNT_FAM_MEMBERS']\n",
    "data['ratio_credit_to_annuity'] = data['AMT_CREDIT'] / data['AMT_ANNUITY']\n",
    "data['ratio_credit_to_goods'] = data['AMT_CREDIT'] / data['AMT_GOODS_PRICE']\n",
    "data['ratio_credit_to_income'] = data['AMT_CREDIT'] / data['AMT_INCOME_TOTAL']\n",
    "data['ratio_days_employed'] = data['DAYS_EMPLOYED'] / data['DAYS_BIRTH']\n",
    "data['ratio_income_credit'] = data['AMT_INCOME_TOTAL'] / data['AMT_CREDIT']\n",
    "data['ratio_income_per_child'] = data['AMT_INCOME_TOTAL'] / (1 + data['CNT_CHILDREN'])\n",
    "data['ratio_income_per_person'] = data['AMT_INCOME_TOTAL'] / data['CNT_FAM_MEMBERS']\n",
    "data['ratio_payment_rate'] = data['AMT_ANNUITY'] / data['AMT_CREDIT']\n",
    "data['ratio_phone_to_birth'] = data['DAYS_LAST_PHONE_CHANGE'] / data['DAYS_BIRTH']\n",
    "data['ratio_phone_to_employ'] = data['DAYS_LAST_PHONE_CHANGE'] / data['DAYS_EMPLOYED']\n",
    "data = data.dropna(subset=['ratio_car_to_employ', 'ratio_phone_to_employ'])\n"
   ]
  },
  {
   "cell_type": "code",
   "execution_count": 690,
   "metadata": {},
   "outputs": [],
   "source": [
    "#lets exports a csv file to visualize the feature in another notebook\n",
    "# Generate new csv\n",
    "#application_train = data[:train_size_].copy()\n",
    "#application_train.to_csv('data/application_train_visual.csv', index=False)\n"
   ]
  },
  {
   "cell_type": "markdown",
   "metadata": {},
   "source": [
    "### Outliers"
   ]
  },
  {
   "cell_type": "code",
   "execution_count": 691,
   "metadata": {},
   "outputs": [],
   "source": [
    "data['DAYS_EMPLOYED'].replace(365243, 0, inplace=True)"
   ]
  },
  {
   "cell_type": "markdown",
   "metadata": {},
   "source": [
    "## Data Preprocessing"
   ]
  },
  {
   "cell_type": "code",
   "execution_count": 692,
   "metadata": {},
   "outputs": [
    {
     "data": {
      "image/png": "[encoded data removed]",
      "text/plain": [
       "<matplotlib.figure.Figure at 0x137f6a908>"
      ]
     },
     "metadata": {},
     "output_type": "display_data"
    },
    {
     "data": {
      "image/png": "[encoded data removed]",
      "text/plain": [
       "<matplotlib.figure.Figure at 0x138013a58>"
      ]
     },
     "metadata": {},
     "output_type": "display_data"
    },
    {
     "data": {
      "image/png": "[encoded data removed]",
      "text/plain": [
       "<matplotlib.figure.Figure at 0x1381e04a8>"
      ]
     },
     "metadata": {},
     "output_type": "display_data"
    }
   ],
   "source": [
    "# Visualize skewed continuous features of original data\n",
    "data['AMT_INCOME_TOTAL'].plot.hist(alpha=0.5, bins=15, grid=True, legend=None)  # Pandas helper function to plot a hist. Uses matplotlib under the hood.\n",
    "plt.xlabel(\"Feature value\")\n",
    "plt.title(\"Income Total Histogram\")\n",
    "plt.show()\n",
    "\n",
    "data['AMT_CREDIT'].plot.hist(alpha=0.5, bins=15, grid=True, legend=None)  # Pandas helper function to plot a hist. Uses matplotlib under the hood.\n",
    "plt.xlabel(\"Feature value\")\n",
    "plt.title(\"Credit Histogram\")\n",
    "plt.show()\n",
    "\n",
    "data['AMT_ANNUITY'].plot.hist(alpha=0.5, bins=15, grid=True, legend=None)  # Pandas helper function to plot a hist. Uses matplotlib under the hood.\n",
    "plt.xlabel(\"Feature value\")\n",
    "plt.title(\"Annuity Histogram\")\n",
    "plt.show()\n",
    "\n"
   ]
  },
  {
   "cell_type": "markdown",
   "metadata": {},
   "source": [
    "For highly-skewed feature distributions such as `'AMT_CREDIT'` and `'AMT_ANNUITY'`, it is common practice to apply a logarithmic transformation on the data so that the very large and very small values do not negatively affect the performance of a learning algorithm. Using a logarithmic transformation significantly reduces the range of values caused by outliers "
   ]
  },
  {
   "cell_type": "code",
   "execution_count": 693,
   "metadata": {},
   "outputs": [],
   "source": [
    "# Log-transform the skewed features\n",
    "skewed = [ 'AMT_INCOME_TOTAL', 'AMT_CREDIT', 'AMT_ANNUITY', 'AMT_GOODS_PRICE']\n",
    "features_log_transformed = pd.DataFrame(data = data)\n",
    "features_log_transformed[skewed] = data[skewed].apply(lambda x: np.log(x + 1))"
   ]
  },
  {
   "cell_type": "code",
   "execution_count": 694,
   "metadata": {},
   "outputs": [
    {
     "data": {
      "image/png": "[encoded data removed]",
      "text/plain": [
       "<matplotlib.figure.Figure at 0x13b7db6a0>"
      ]
     },
     "metadata": {},
     "output_type": "display_data"
    },
    {
     "data": {
      "image/png": "[encoded data removed]",
      "text/plain": [
       "<matplotlib.figure.Figure at 0x137597898>"
      ]
     },
     "metadata": {},
     "output_type": "display_data"
    },
    {
     "data": {
      "image/png": "[encoded data removed]",
      "text/plain": [
       "<matplotlib.figure.Figure at 0x110c04278>"
      ]
     },
     "metadata": {},
     "output_type": "display_data"
    }
   ],
   "source": [
    "# Visualize after log transformation\n",
    "features_log_transformed['AMT_INCOME_TOTAL'].plot.hist(alpha=0.5, bins=15, grid=True, legend=None)  # Pandas helper function to plot a hist. Uses matplotlib under the hood.\n",
    "plt.xlabel(\"Feature value\")\n",
    "plt.title(\"Income Total Histogram\")\n",
    "plt.show()\n",
    "\n",
    "features_log_transformed['AMT_CREDIT'].plot.hist(alpha=0.5, bins=15, grid=True, legend=None)  # Pandas helper function to plot a hist. Uses matplotlib under the hood.\n",
    "plt.xlabel(\"Feature value\")\n",
    "plt.title(\"Credit Histogram\")\n",
    "plt.show()\n",
    "\n",
    "features_log_transformed['AMT_ANNUITY'].plot.hist(alpha=0.5, bins=15, grid=True, legend=None)  # Pandas helper function to plot a hist. Uses matplotlib under the hood.\n",
    "plt.xlabel(\"Feature value\")\n",
    "plt.title(\"Annuity Histogram\")\n",
    "plt.show()"
   ]
  },
  {
   "cell_type": "code",
   "execution_count": 695,
   "metadata": {},
   "outputs": [
    {
     "data": {
      "text/html": [
       "<div>\n",
       "<style scoped>\n",
       "    .dataframe tbody tr th:only-of-type {\n",
       "        vertical-align: middle;\n",
       "    }\n",
       "\n",
       "    .dataframe tbody tr th {\n",
       "        vertical-align: top;\n",
       "    }\n",
       "\n",
       "    .dataframe thead th {\n",
       "        text-align: right;\n",
       "    }\n",
       "</style>\n",
       "<table border=\"1\" class=\"dataframe\">\n",
       "  <thead>\n",
       "    <tr style=\"text-align: right;\">\n",
       "      <th></th>\n",
       "      <th>AMT_ANNUITY</th>\n",
       "      <th>AMT_CREDIT</th>\n",
       "      <th>AMT_GOODS_PRICE</th>\n",
       "      <th>AMT_INCOME_TOTAL</th>\n",
       "      <th>CNT_CHILDREN</th>\n",
       "      <th>CNT_FAM_MEMBERS</th>\n",
       "      <th>CODE_GENDER</th>\n",
       "      <th>DAYS_BIRTH</th>\n",
       "      <th>DAYS_EMPLOYED</th>\n",
       "      <th>DAYS_ID_PUBLISH</th>\n",
       "      <th>...</th>\n",
       "      <th>ratio_credit_to_annuity</th>\n",
       "      <th>ratio_credit_to_goods</th>\n",
       "      <th>ratio_credit_to_income</th>\n",
       "      <th>ratio_days_employed</th>\n",
       "      <th>ratio_income_credit</th>\n",
       "      <th>ratio_income_per_child</th>\n",
       "      <th>ratio_income_per_person</th>\n",
       "      <th>ratio_payment_rate</th>\n",
       "      <th>ratio_phone_to_birth</th>\n",
       "      <th>ratio_phone_to_employ</th>\n",
       "    </tr>\n",
       "  </thead>\n",
       "  <tbody>\n",
       "    <tr>\n",
       "      <th>0</th>\n",
       "      <td>10.114619</td>\n",
       "      <td>12.915581</td>\n",
       "      <td>12.768544</td>\n",
       "      <td>12.218500</td>\n",
       "      <td>0</td>\n",
       "      <td>1.0</td>\n",
       "      <td>M</td>\n",
       "      <td>-9461</td>\n",
       "      <td>637</td>\n",
       "      <td>-2120</td>\n",
       "      <td>...</td>\n",
       "      <td>16.461104</td>\n",
       "      <td>1.158397</td>\n",
       "      <td>2.007889</td>\n",
       "      <td>-0.067329</td>\n",
       "      <td>0.498036</td>\n",
       "      <td>202500.0</td>\n",
       "      <td>202500.0</td>\n",
       "      <td>0.060749</td>\n",
       "      <td>0.119860</td>\n",
       "      <td>-1.780220</td>\n",
       "    </tr>\n",
       "    <tr>\n",
       "      <th>1</th>\n",
       "      <td>10.482892</td>\n",
       "      <td>14.072865</td>\n",
       "      <td>13.937287</td>\n",
       "      <td>12.506181</td>\n",
       "      <td>0</td>\n",
       "      <td>2.0</td>\n",
       "      <td>F</td>\n",
       "      <td>-16765</td>\n",
       "      <td>1188</td>\n",
       "      <td>-291</td>\n",
       "      <td>...</td>\n",
       "      <td>36.234085</td>\n",
       "      <td>1.145199</td>\n",
       "      <td>4.790750</td>\n",
       "      <td>-0.070862</td>\n",
       "      <td>0.208736</td>\n",
       "      <td>270000.0</td>\n",
       "      <td>135000.0</td>\n",
       "      <td>0.027598</td>\n",
       "      <td>0.049389</td>\n",
       "      <td>-0.696970</td>\n",
       "    </tr>\n",
       "    <tr>\n",
       "      <th>2</th>\n",
       "      <td>8.817446</td>\n",
       "      <td>11.813037</td>\n",
       "      <td>11.813037</td>\n",
       "      <td>11.119898</td>\n",
       "      <td>0</td>\n",
       "      <td>1.0</td>\n",
       "      <td>M</td>\n",
       "      <td>-19046</td>\n",
       "      <td>225</td>\n",
       "      <td>-2531</td>\n",
       "      <td>...</td>\n",
       "      <td>20.000000</td>\n",
       "      <td>1.000000</td>\n",
       "      <td>2.000000</td>\n",
       "      <td>-0.011814</td>\n",
       "      <td>0.500000</td>\n",
       "      <td>67500.0</td>\n",
       "      <td>67500.0</td>\n",
       "      <td>0.050000</td>\n",
       "      <td>0.042791</td>\n",
       "      <td>-3.622222</td>\n",
       "    </tr>\n",
       "    <tr>\n",
       "      <th>3</th>\n",
       "      <td>10.298481</td>\n",
       "      <td>12.652947</td>\n",
       "      <td>12.601491</td>\n",
       "      <td>11.813037</td>\n",
       "      <td>0</td>\n",
       "      <td>2.0</td>\n",
       "      <td>F</td>\n",
       "      <td>-19005</td>\n",
       "      <td>3039</td>\n",
       "      <td>-2437</td>\n",
       "      <td>...</td>\n",
       "      <td>10.532818</td>\n",
       "      <td>1.052803</td>\n",
       "      <td>2.316167</td>\n",
       "      <td>-0.159905</td>\n",
       "      <td>0.431748</td>\n",
       "      <td>135000.0</td>\n",
       "      <td>67500.0</td>\n",
       "      <td>0.094941</td>\n",
       "      <td>0.032465</td>\n",
       "      <td>-0.203027</td>\n",
       "    </tr>\n",
       "    <tr>\n",
       "      <th>4</th>\n",
       "      <td>9.992711</td>\n",
       "      <td>13.148033</td>\n",
       "      <td>13.148033</td>\n",
       "      <td>11.707678</td>\n",
       "      <td>0</td>\n",
       "      <td>1.0</td>\n",
       "      <td>M</td>\n",
       "      <td>-19932</td>\n",
       "      <td>3038</td>\n",
       "      <td>-3458</td>\n",
       "      <td>...</td>\n",
       "      <td>23.461618</td>\n",
       "      <td>1.000000</td>\n",
       "      <td>4.222222</td>\n",
       "      <td>-0.152418</td>\n",
       "      <td>0.236842</td>\n",
       "      <td>121500.0</td>\n",
       "      <td>121500.0</td>\n",
       "      <td>0.042623</td>\n",
       "      <td>0.055489</td>\n",
       "      <td>-0.364055</td>\n",
       "    </tr>\n",
       "  </tbody>\n",
       "</table>\n",
       "<p>5 rows × 78 columns</p>\n",
       "</div>"
      ],
      "text/plain": [
       "   AMT_ANNUITY  AMT_CREDIT  AMT_GOODS_PRICE  AMT_INCOME_TOTAL  CNT_CHILDREN  \\\n",
       "0    10.114619   12.915581        12.768544         12.218500             0   \n",
       "1    10.482892   14.072865        13.937287         12.506181             0   \n",
       "2     8.817446   11.813037        11.813037         11.119898             0   \n",
       "3    10.298481   12.652947        12.601491         11.813037             0   \n",
       "4     9.992711   13.148033        13.148033         11.707678             0   \n",
       "\n",
       "   CNT_FAM_MEMBERS CODE_GENDER  DAYS_BIRTH  DAYS_EMPLOYED  DAYS_ID_PUBLISH  \\\n",
       "0              1.0           M       -9461            637            -2120   \n",
       "1              2.0           F      -16765           1188             -291   \n",
       "2              1.0           M      -19046            225            -2531   \n",
       "3              2.0           F      -19005           3039            -2437   \n",
       "4              1.0           M      -19932           3038            -3458   \n",
       "\n",
       "           ...            ratio_credit_to_annuity  ratio_credit_to_goods  \\\n",
       "0          ...                          16.461104               1.158397   \n",
       "1          ...                          36.234085               1.145199   \n",
       "2          ...                          20.000000               1.000000   \n",
       "3          ...                          10.532818               1.052803   \n",
       "4          ...                          23.461618               1.000000   \n",
       "\n",
       "   ratio_credit_to_income  ratio_days_employed  ratio_income_credit  \\\n",
       "0                2.007889            -0.067329             0.498036   \n",
       "1                4.790750            -0.070862             0.208736   \n",
       "2                2.000000            -0.011814             0.500000   \n",
       "3                2.316167            -0.159905             0.431748   \n",
       "4                4.222222            -0.152418             0.236842   \n",
       "\n",
       "   ratio_income_per_child  ratio_income_per_person  ratio_payment_rate  \\\n",
       "0                202500.0                 202500.0            0.060749   \n",
       "1                270000.0                 135000.0            0.027598   \n",
       "2                 67500.0                  67500.0            0.050000   \n",
       "3                135000.0                  67500.0            0.094941   \n",
       "4                121500.0                 121500.0            0.042623   \n",
       "\n",
       "   ratio_phone_to_birth  ratio_phone_to_employ  \n",
       "0              0.119860              -1.780220  \n",
       "1              0.049389              -0.696970  \n",
       "2              0.042791              -3.622222  \n",
       "3              0.032465              -0.203027  \n",
       "4              0.055489              -0.364055  \n",
       "\n",
       "[5 rows x 78 columns]"
      ]
     },
     "execution_count": 695,
     "metadata": {},
     "output_type": "execute_result"
    }
   ],
   "source": [
    "features_log_transformed.head()"
   ]
  },
  {
   "cell_type": "markdown",
   "metadata": {},
   "source": [
    "### Normalizing Numerical Features\n"
   ]
  },
  {
   "cell_type": "code",
   "execution_count": 696,
   "metadata": {},
   "outputs": [
    {
     "name": "stdout",
     "output_type": "stream",
     "text": [
      "We will normalize only  26 out of 39 numerical features\n"
     ]
    }
   ],
   "source": [
    "#get all features that \n",
    "numerical_features_all = [col for col in features_log_transformed.columns if features_log_transformed[col].dtype != 'object' \n",
    "                and col.find('FLAG') != 0\n",
    "                and col != 'TARGET'\n",
    "                and col != 'SK_ID_CURR'\n",
    "               ]\n",
    "\n",
    "#find features where its values > 1 or < -1 for scaling in next step\n",
    "a= [col for col in numerical_features_all if (np.where(features_log_transformed[col] > 1)[0].shape[0] > 0)] \n",
    "b= [col for col in numerical_features_all if (np.where(features_log_transformed[col] < -1)[0].shape[0] > 0)]\n",
    "\n",
    "numerical_features = a + b\n",
    "\n",
    "print('We will normalize only ', len(numerical_features), 'out of', len(numerical_features_all), 'numerical features')\n"
   ]
  },
  {
   "cell_type": "code",
   "execution_count": 697,
   "metadata": {},
   "outputs": [
    {
     "data": {
      "text/html": [
       "<div>\n",
       "<style scoped>\n",
       "    .dataframe tbody tr th:only-of-type {\n",
       "        vertical-align: middle;\n",
       "    }\n",
       "\n",
       "    .dataframe tbody tr th {\n",
       "        vertical-align: top;\n",
       "    }\n",
       "\n",
       "    .dataframe thead th {\n",
       "        text-align: right;\n",
       "    }\n",
       "</style>\n",
       "<table border=\"1\" class=\"dataframe\">\n",
       "  <thead>\n",
       "    <tr style=\"text-align: right;\">\n",
       "      <th></th>\n",
       "      <th>AMT_ANNUITY</th>\n",
       "      <th>AMT_CREDIT</th>\n",
       "      <th>AMT_GOODS_PRICE</th>\n",
       "      <th>AMT_INCOME_TOTAL</th>\n",
       "      <th>CNT_CHILDREN</th>\n",
       "      <th>CNT_FAM_MEMBERS</th>\n",
       "      <th>CODE_GENDER</th>\n",
       "      <th>DAYS_BIRTH</th>\n",
       "      <th>DAYS_EMPLOYED</th>\n",
       "      <th>DAYS_ID_PUBLISH</th>\n",
       "      <th>...</th>\n",
       "      <th>ratio_credit_to_annuity</th>\n",
       "      <th>ratio_credit_to_goods</th>\n",
       "      <th>ratio_credit_to_income</th>\n",
       "      <th>ratio_days_employed</th>\n",
       "      <th>ratio_income_credit</th>\n",
       "      <th>ratio_income_per_child</th>\n",
       "      <th>ratio_income_per_person</th>\n",
       "      <th>ratio_payment_rate</th>\n",
       "      <th>ratio_phone_to_birth</th>\n",
       "      <th>ratio_phone_to_employ</th>\n",
       "    </tr>\n",
       "  </thead>\n",
       "  <tbody>\n",
       "    <tr>\n",
       "      <th>0</th>\n",
       "      <td>0.537494</td>\n",
       "      <td>0.489166</td>\n",
       "      <td>0.468924</td>\n",
       "      <td>0.245232</td>\n",
       "      <td>0.0</td>\n",
       "      <td>0.00</td>\n",
       "      <td>M</td>\n",
       "      <td>0.881337</td>\n",
       "      <td>0.035563</td>\n",
       "      <td>0.705433</td>\n",
       "      <td>...</td>\n",
       "      <td>0.226047</td>\n",
       "      <td>0.172376</td>\n",
       "      <td>0.023640</td>\n",
       "      <td>0.998583</td>\n",
       "      <td>0.002338</td>\n",
       "      <td>0.003410</td>\n",
       "      <td>0.005121</td>\n",
       "      <td>0.060749</td>\n",
       "      <td>0.119860</td>\n",
       "      <td>0.999094</td>\n",
       "    </tr>\n",
       "    <tr>\n",
       "      <th>1</th>\n",
       "      <td>0.610092</td>\n",
       "      <td>0.746352</td>\n",
       "      <td>0.722714</td>\n",
       "      <td>0.279376</td>\n",
       "      <td>0.0</td>\n",
       "      <td>0.05</td>\n",
       "      <td>F</td>\n",
       "      <td>0.473087</td>\n",
       "      <td>0.066324</td>\n",
       "      <td>0.959566</td>\n",
       "      <td>...</td>\n",
       "      <td>0.756604</td>\n",
       "      <td>0.170120</td>\n",
       "      <td>0.056483</td>\n",
       "      <td>0.998509</td>\n",
       "      <td>0.000947</td>\n",
       "      <td>0.004564</td>\n",
       "      <td>0.003390</td>\n",
       "      <td>0.027598</td>\n",
       "      <td>0.049389</td>\n",
       "      <td>0.999645</td>\n",
       "    </tr>\n",
       "    <tr>\n",
       "      <th>2</th>\n",
       "      <td>0.281783</td>\n",
       "      <td>0.244144</td>\n",
       "      <td>0.261437</td>\n",
       "      <td>0.114839</td>\n",
       "      <td>0.0</td>\n",
       "      <td>0.00</td>\n",
       "      <td>M</td>\n",
       "      <td>0.345593</td>\n",
       "      <td>0.012561</td>\n",
       "      <td>0.648326</td>\n",
       "      <td>...</td>\n",
       "      <td>0.321005</td>\n",
       "      <td>0.145299</td>\n",
       "      <td>0.023547</td>\n",
       "      <td>0.999752</td>\n",
       "      <td>0.002347</td>\n",
       "      <td>0.001103</td>\n",
       "      <td>0.001659</td>\n",
       "      <td>0.050000</td>\n",
       "      <td>0.042791</td>\n",
       "      <td>0.998156</td>\n",
       "    </tr>\n",
       "    <tr>\n",
       "      <th>3</th>\n",
       "      <td>0.573739</td>\n",
       "      <td>0.430800</td>\n",
       "      <td>0.432648</td>\n",
       "      <td>0.197108</td>\n",
       "      <td>0.0</td>\n",
       "      <td>0.05</td>\n",
       "      <td>F</td>\n",
       "      <td>0.347884</td>\n",
       "      <td>0.169663</td>\n",
       "      <td>0.661387</td>\n",
       "      <td>...</td>\n",
       "      <td>0.066977</td>\n",
       "      <td>0.154325</td>\n",
       "      <td>0.027278</td>\n",
       "      <td>0.996634</td>\n",
       "      <td>0.002019</td>\n",
       "      <td>0.002257</td>\n",
       "      <td>0.001659</td>\n",
       "      <td>0.094941</td>\n",
       "      <td>0.032465</td>\n",
       "      <td>0.999897</td>\n",
       "    </tr>\n",
       "    <tr>\n",
       "      <th>4</th>\n",
       "      <td>0.513463</td>\n",
       "      <td>0.540824</td>\n",
       "      <td>0.551329</td>\n",
       "      <td>0.184602</td>\n",
       "      <td>0.0</td>\n",
       "      <td>0.00</td>\n",
       "      <td>M</td>\n",
       "      <td>0.296071</td>\n",
       "      <td>0.169607</td>\n",
       "      <td>0.519522</td>\n",
       "      <td>...</td>\n",
       "      <td>0.413888</td>\n",
       "      <td>0.145299</td>\n",
       "      <td>0.049774</td>\n",
       "      <td>0.996791</td>\n",
       "      <td>0.001082</td>\n",
       "      <td>0.002026</td>\n",
       "      <td>0.003043</td>\n",
       "      <td>0.042623</td>\n",
       "      <td>0.055489</td>\n",
       "      <td>0.999815</td>\n",
       "    </tr>\n",
       "  </tbody>\n",
       "</table>\n",
       "<p>5 rows × 78 columns</p>\n",
       "</div>"
      ],
      "text/plain": [
       "   AMT_ANNUITY  AMT_CREDIT  AMT_GOODS_PRICE  AMT_INCOME_TOTAL  CNT_CHILDREN  \\\n",
       "0     0.537494    0.489166         0.468924          0.245232           0.0   \n",
       "1     0.610092    0.746352         0.722714          0.279376           0.0   \n",
       "2     0.281783    0.244144         0.261437          0.114839           0.0   \n",
       "3     0.573739    0.430800         0.432648          0.197108           0.0   \n",
       "4     0.513463    0.540824         0.551329          0.184602           0.0   \n",
       "\n",
       "   CNT_FAM_MEMBERS CODE_GENDER  DAYS_BIRTH  DAYS_EMPLOYED  DAYS_ID_PUBLISH  \\\n",
       "0             0.00           M    0.881337       0.035563         0.705433   \n",
       "1             0.05           F    0.473087       0.066324         0.959566   \n",
       "2             0.00           M    0.345593       0.012561         0.648326   \n",
       "3             0.05           F    0.347884       0.169663         0.661387   \n",
       "4             0.00           M    0.296071       0.169607         0.519522   \n",
       "\n",
       "           ...            ratio_credit_to_annuity  ratio_credit_to_goods  \\\n",
       "0          ...                           0.226047               0.172376   \n",
       "1          ...                           0.756604               0.170120   \n",
       "2          ...                           0.321005               0.145299   \n",
       "3          ...                           0.066977               0.154325   \n",
       "4          ...                           0.413888               0.145299   \n",
       "\n",
       "   ratio_credit_to_income  ratio_days_employed  ratio_income_credit  \\\n",
       "0                0.023640             0.998583             0.002338   \n",
       "1                0.056483             0.998509             0.000947   \n",
       "2                0.023547             0.999752             0.002347   \n",
       "3                0.027278             0.996634             0.002019   \n",
       "4                0.049774             0.996791             0.001082   \n",
       "\n",
       "   ratio_income_per_child  ratio_income_per_person  ratio_payment_rate  \\\n",
       "0                0.003410                 0.005121            0.060749   \n",
       "1                0.004564                 0.003390            0.027598   \n",
       "2                0.001103                 0.001659            0.050000   \n",
       "3                0.002257                 0.001659            0.094941   \n",
       "4                0.002026                 0.003043            0.042623   \n",
       "\n",
       "   ratio_phone_to_birth  ratio_phone_to_employ  \n",
       "0              0.119860               0.999094  \n",
       "1              0.049389               0.999645  \n",
       "2              0.042791               0.998156  \n",
       "3              0.032465               0.999897  \n",
       "4              0.055489               0.999815  \n",
       "\n",
       "[5 rows x 78 columns]"
      ]
     },
     "execution_count": 697,
     "metadata": {},
     "output_type": "execute_result"
    }
   ],
   "source": [
    "from sklearn.preprocessing import MinMaxScaler\n",
    "\n",
    "scaler = MinMaxScaler() # default=(0, 1)\n",
    "\n",
    "features_log_minmax_transform = pd.DataFrame(data = features_log_transformed)\n",
    "features_log_minmax_transform[numerical_features] = scaler.fit_transform(features_log_transformed[numerical_features])\n",
    "features_log_minmax_transform.head()"
   ]
  },
  {
   "cell_type": "markdown",
   "metadata": {},
   "source": [
    "### One-hot Encoding\n",
    "\n",
    "Note that the dataset contains many categorical features. These features need to be encoded to binary representations as many of learning algorithms expect numerical values and cannot work with categorical values. "
   ]
  },
  {
   "cell_type": "code",
   "execution_count": 698,
   "metadata": {},
   "outputs": [],
   "source": [
    "#Convert categorical features into numerical representation\n",
    "features_final = pd.get_dummies(features_log_minmax_transform)"
   ]
  },
  {
   "cell_type": "code",
   "execution_count": 699,
   "metadata": {},
   "outputs": [],
   "source": [
    "# Generate new csv\n",
    "application_train = features_final[:train_size_].copy()\n",
    "application_test = features_final[train_size_:].copy()\n",
    "application_test.drop(columns = ['TARGET'], inplace=True)\n",
    "application_train.to_csv('data/application_train_final.csv', index=False)\n",
    "application_test.to_csv('data/application_test_final.csv', index=False)"
   ]
  },
  {
   "cell_type": "code",
   "execution_count": null,
   "metadata": {},
   "outputs": [],
   "source": []
  },
  {
   "cell_type": "code",
   "execution_count": null,
   "metadata": {},
   "outputs": [],
   "source": []
  },
  {
   "cell_type": "code",
   "execution_count": null,
   "metadata": {},
   "outputs": [],
   "source": []
  },
  {
   "cell_type": "code",
   "execution_count": null,
   "metadata": {},
   "outputs": [],
   "source": []
  },
  {
   "cell_type": "code",
   "execution_count": null,
   "metadata": {},
   "outputs": [],
   "source": []
  },
  {
   "cell_type": "code",
   "execution_count": null,
   "metadata": {},
   "outputs": [],
   "source": []
  },
  {
   "cell_type": "code",
   "execution_count": null,
   "metadata": {},
   "outputs": [],
   "source": []
  },
  {
   "cell_type": "code",
   "execution_count": null,
   "metadata": {},
   "outputs": [],
   "source": []
  },
  {
   "cell_type": "code",
   "execution_count": null,
   "metadata": {},
   "outputs": [],
   "source": []
  },
  {
   "cell_type": "code",
   "execution_count": null,
   "metadata": {},
   "outputs": [],
   "source": []
  },
  {
   "cell_type": "code",
   "execution_count": null,
   "metadata": {},
   "outputs": [],
   "source": []
  },
  {
   "cell_type": "code",
   "execution_count": null,
   "metadata": {},
   "outputs": [],
   "source": []
  },
  {
   "cell_type": "code",
   "execution_count": null,
   "metadata": {},
   "outputs": [],
   "source": []
  },
  {
   "cell_type": "code",
   "execution_count": null,
   "metadata": {},
   "outputs": [],
   "source": []
  },
  {
   "cell_type": "markdown",
   "metadata": {},
   "source": [
    "### Data Shuffle & Split"
   ]
  },
  {
   "cell_type": "code",
   "execution_count": 608,
   "metadata": {},
   "outputs": [
    {
     "name": "stdout",
     "output_type": "stream",
     "text": [
      "125699    0.0\n",
      "51543     0.0\n",
      "276701    1.0\n",
      "244781    0.0\n",
      "98093     0.0\n",
      "118141    0.0\n",
      "18544     0.0\n",
      "234566    0.0\n",
      "157140    0.0\n",
      "194641    0.0\n",
      "70603     0.0\n",
      "43685     0.0\n",
      "69785     1.0\n",
      "106186    0.0\n",
      "188075    0.0\n",
      "193301    0.0\n",
      "39982     0.0\n",
      "88934     0.0\n",
      "78212     0.0\n",
      "75861     0.0\n",
      "176993    0.0\n",
      "163458    0.0\n",
      "109271    0.0\n",
      "200529    0.0\n",
      "260406    0.0\n",
      "306961    0.0\n",
      "261656    0.0\n",
      "33409     0.0\n",
      "219253    0.0\n",
      "207486    0.0\n",
      "         ... \n",
      "190538    0.0\n",
      "274126    0.0\n",
      "228041    0.0\n",
      "125715    0.0\n",
      "303935    0.0\n",
      "84741     0.0\n",
      "183718    0.0\n",
      "122251    0.0\n",
      "221804    0.0\n",
      "200001    0.0\n",
      "49852     0.0\n",
      "230336    0.0\n",
      "31949     0.0\n",
      "73203     0.0\n",
      "7883      0.0\n",
      "82532     0.0\n",
      "255886    0.0\n",
      "220956    0.0\n",
      "150192    0.0\n",
      "17102     1.0\n",
      "80260     0.0\n",
      "170737    0.0\n",
      "212223    0.0\n",
      "211728    0.0\n",
      "86373     0.0\n",
      "122686    0.0\n",
      "304424    1.0\n",
      "152453    0.0\n",
      "118058    0.0\n",
      "306002    0.0\n",
      "Name: TARGET, Length: 215257, dtype: float64\n",
      "Training set has 215257 samples.\n",
      "Testing set has 92254 samples.\n"
     ]
    }
   ],
   "source": [
    "# Import train_test_split\n",
    "from sklearn.cross_validation import train_test_split\n",
    "\n",
    "# Split target and features data\n",
    "application_train = features_final[:train_size_].copy()\n",
    "target = application_train['TARGET']\n",
    "application_train = application_train.drop('TARGET', axis = 1)\n",
    "application_train = application_train.drop('SK_ID_CURR', axis = 1) # Remove application id from features\n",
    "application_train.shape[0]\n",
    "# Split the 'features' and 'income' data into training and testing sets\n",
    "X_train, X_test, y_train, y_test = train_test_split(application_train, \n",
    "                                                    target, \n",
    "                                                    test_size = 0.3, \n",
    "                                                    random_state = 0)\n",
    "\n",
    "print(y_train)\n",
    "# Show the results of the split\n",
    "print(\"Training set has {} samples.\".format(X_train.shape[0]))\n",
    "print(\"Testing set has {} samples.\".format(X_test.shape[0]))"
   ]
  },
  {
   "cell_type": "markdown",
   "metadata": {},
   "source": [
    "### Model Performance "
   ]
  },
  {
   "cell_type": "code",
   "execution_count": 185,
   "metadata": {},
   "outputs": [
    {
     "name": "stdout",
     "output_type": "stream",
     "text": [
      "Naive Predictor: [Accuracy score: 0.08074, F-score: 0.09892]\n"
     ]
    }
   ],
   "source": [
    "\n",
    "TP = np.sum(target) # Counting the ones as this is the naive case. \n",
    "FP = target.count() - TP # Specific to the naive case\n",
    "\n",
    "TN = 0 # No predicted negatives in the naive case\n",
    "FN = 0 # No predicted negatives in the naive case\n",
    "\n",
    "# TODO: Calculate accuracy, precision and recall\n",
    "accuracy = (TP + TN) / (TP + FP + TN + FN)\n",
    "recall = TP / (TP + FN)\n",
    "precision = TP / (TP + FP)\n",
    "\n",
    "# TODO: Calculate F-score using the formula above for beta = 0.5 and correct values for precision and recall.\n",
    "beta = 0.5\n",
    "fscore = (1 + (beta**2)) * ((precision * recall) / ((beta**2 * precision) + recall))\n",
    "\n",
    "# Print the results \n",
    "print(\"Naive Predictor: [Accuracy score: {:.04}, F-score: {:.04}]\".format(accuracy, fscore))"
   ]
  },
  {
   "cell_type": "markdown",
   "metadata": {},
   "source": [
    "### Model Evaluation"
   ]
  },
  {
   "cell_type": "markdown",
   "metadata": {},
   "source": [
    "Now the dataset looks ready to be used to training the model and testing it after completing the preprocessing steps. Numerical features in the dataset has been normalized and scaled between 0 to 1. Likewise, categorical features have been encoded for the algorithm to understand. Next step is to find the best algorithm that fits this problem properly and efficiently.\n",
    "\n",
    "There are many classification models that will help predicting default home loan risk. For this project, the below models will be used to identify the best fitting model.\n",
    "\n",
    "    - Nearest Neighbors\n",
    "    - Linear Support Vector Machine (SVM)\n",
    "    - Radial Basis Function Support Vector Machine (RBF SVM)\n",
    "    - Gaussian Process \n",
    "    - Decision Tree \n",
    "    - Random Forest \n",
    "    - Multi-layer Perceptron\n",
    "    - AdaBoost\n",
    "    - Gaussian Naive Bayes\n",
    "    - Quadratic Discriminant Analysis\n",
    "    - Logistic Regression\n",
    "    "
   ]
  },
  {
   "cell_type": "code",
   "execution_count": 186,
   "metadata": {},
   "outputs": [],
   "source": [
    "#Lets import classification models that predicats a binary target \n",
    "from sklearn.neural_network import MLPClassifier #NN\n",
    "from sklearn.neighbors import KNeighborsClassifier \n",
    "from sklearn.svm import SVC\n",
    "from sklearn.gaussian_process import GaussianProcessClassifier\n",
    "from sklearn.gaussian_process.kernels import RBF\n",
    "from sklearn.tree import DecisionTreeClassifier\n",
    "from sklearn.ensemble import RandomForestClassifier, AdaBoostClassifier\n",
    "from sklearn.naive_bayes import GaussianNB\n",
    "from sklearn.discriminant_analysis import QuadraticDiscriminantAnalysis\n",
    "from sklearn import model_selection\n",
    "from sklearn.linear_model import LogisticRegression\n",
    "\n",
    "#initialize classifiers\n",
    "AB = LogisticRegression(random_state=48)\n",
    "AB.fit(X_train, y_train)\n",
    "classifiers = [\n",
    "    #('Gaussian Process', GaussianProcessClassifier(1.0 * RBF(1.0))),\n",
    "    #('Random Forest', RandomForestClassifier(n_estimators=100)), #(max_depth=5, n_estimators=10, max_features=1)),\n",
    "    #('Multi-layer Perceptron', MLPClassifier(alpha=1)),\n",
    "    #('AdaBoost', AdaBoostClassifier()),\n",
    "    #('Gaussian Naive Bayes', GaussianNB()),\n",
    "    #('Quadratic Discriminant Analysis', QuadraticDiscriminantAnalysis()),\n",
    "    #('Decision Tree', DecisionTreeClassifier(random_state=48)),\n",
    "    #('Nearest Neighbors', KNeighborsClassifier(3)),\n",
    "    #('Logistic Regression', LogisticRegression(random_state=48))\n",
    "\n",
    "    ]"
   ]
  },
  {
   "cell_type": "code",
   "execution_count": 187,
   "metadata": {},
   "outputs": [],
   "source": [
    "# make class predictions for the testing set\n",
    "y_pred_class = AB.predict(X_test)"
   ]
  },
  {
   "cell_type": "code",
   "execution_count": 188,
   "metadata": {},
   "outputs": [
    {
     "data": {
      "text/plain": [
       "0    84605\n",
       "1     7561\n",
       "Name: TARGET, dtype: int64"
      ]
     },
     "execution_count": 188,
     "metadata": {},
     "output_type": "execute_result"
    }
   ],
   "source": [
    "# examine the class distribution of the testing set (using a Pandas Series method)\n",
    "y_test.value_counts()\n"
   ]
  },
  {
   "cell_type": "code",
   "execution_count": 189,
   "metadata": {},
   "outputs": [
    {
     "data": {
      "text/plain": [
       "0.08203675975956426"
      ]
     },
     "execution_count": 189,
     "metadata": {},
     "output_type": "execute_result"
    }
   ],
   "source": [
    "# calculate the percentage of ones\n",
    "# because y_test only contains ones and zeros, we can simply calculate the mean = percentage of ones\n",
    "y_test.mean()"
   ]
  },
  {
   "cell_type": "code",
   "execution_count": 190,
   "metadata": {},
   "outputs": [
    {
     "data": {
      "text/plain": [
       "0.9179632402404357"
      ]
     },
     "execution_count": 190,
     "metadata": {},
     "output_type": "execute_result"
    }
   ],
   "source": [
    "# calculate the percentage of zeros\n",
    "1 - y_test.mean()"
   ]
  },
  {
   "cell_type": "code",
   "execution_count": 191,
   "metadata": {},
   "outputs": [
    {
     "data": {
      "text/plain": [
       "0.9179632402404357"
      ]
     },
     "execution_count": 191,
     "metadata": {},
     "output_type": "execute_result"
    }
   ],
   "source": [
    "# calculate null accuracy in a single line of code\n",
    "# only for binary classification problems coded as 0/1\n",
    "max(y_test.mean(), 1 - y_test.mean())"
   ]
  },
  {
   "cell_type": "markdown",
   "metadata": {},
   "source": [
    "This means that a dumb model that always predicts 0 would be right 91% of the time\n",
    "\n",
    "This shows how classification accuracy is not that good as it's close to a dumb model\n",
    "It's a good way to know the minimum we should achieve with our models"
   ]
  },
  {
   "cell_type": "code",
   "execution_count": 164,
   "metadata": {},
   "outputs": [
    {
     "data": {
      "text/plain": [
       "0    0.917963\n",
       "Name: TARGET, dtype: float64"
      ]
     },
     "execution_count": 164,
     "metadata": {},
     "output_type": "execute_result"
    }
   ],
   "source": [
    "# calculate null accuracy (for multi-class classification problems)\n",
    "y_test.value_counts().head(1) / len(y_test)"
   ]
  },
  {
   "cell_type": "code",
   "execution_count": 165,
   "metadata": {},
   "outputs": [
    {
     "name": "stdout",
     "output_type": "stream",
     "text": [
      "True: [0 0 0 0 0 0 0 0 0 0 1 0 0 0 0 0 0 0 0 0 0 0 0 0 0]\n",
      "False: [0 0 0 0 0 0 0 0 0 0 0 0 0 0 0 0 0 0 0 0 0 0 0 0 0]\n"
     ]
    }
   ],
   "source": [
    "# print the first 25 true and predicted responses\n",
    "print('True:', y_test.values[0:25])\n",
    "print('False:', y_pred_class[0:25])"
   ]
  },
  {
   "cell_type": "code",
   "execution_count": 166,
   "metadata": {},
   "outputs": [
    {
     "name": "stdout",
     "output_type": "stream",
     "text": [
      "[[84604     1]\n",
      " [ 7561     0]]\n"
     ]
    }
   ],
   "source": [
    "# IMPORTANT: first argument is true values, second argument is predicted values\n",
    "# this produces a 2x2 numpy array (matrix)\n",
    "print(metrics.confusion_matrix(y_test, y_pred_class))"
   ]
  },
  {
   "cell_type": "code",
   "execution_count": 167,
   "metadata": {},
   "outputs": [
    {
     "name": "stdout",
     "output_type": "stream",
     "text": [
      "True [0 0 0 0 0 0 0 0 0 0 1 0 0 0 0 0 0 0 0 0 0 0 0 0 0]\n",
      "Pred [0 0 0 0 0 0 0 0 0 0 0 0 0 0 0 0 0 0 0 0 0 0 0 0 0]\n"
     ]
    }
   ],
   "source": [
    "# print the first 25 true and predicted responses\n",
    "print('True', y_test.values[0:25])\n",
    "print('Pred', y_pred_class[0:25])"
   ]
  },
  {
   "cell_type": "code",
   "execution_count": 168,
   "metadata": {},
   "outputs": [
    {
     "name": "stdout",
     "output_type": "stream",
     "text": [
      "[[84604     1]\n",
      " [ 7561     0]]\n"
     ]
    }
   ],
   "source": [
    "# save confusion matrix and slice into four pieces\n",
    "confusion = metrics.confusion_matrix(y_test, y_pred_class)\n",
    "print(confusion)\n",
    "#[row, column]\n",
    "TP = confusion[1, 1]\n",
    "TN = confusion[0, 0]\n",
    "FP = confusion[0, 1]\n",
    "FN = confusion[1, 0]"
   ]
  },
  {
   "cell_type": "code",
   "execution_count": 169,
   "metadata": {},
   "outputs": [
    {
     "name": "stdout",
     "output_type": "stream",
     "text": [
      "0.9179523902523707\n",
      "0.9179523902523707\n"
     ]
    }
   ],
   "source": [
    "# use float to perform true division, not integer division\n",
    "print((TP + TN) / float(TP + TN + FP + FN))\n",
    "print(metrics.accuracy_score(y_test, y_pred_class))"
   ]
  },
  {
   "cell_type": "code",
   "execution_count": 153,
   "metadata": {},
   "outputs": [
    {
     "name": "stdout",
     "output_type": "stream",
     "text": [
      "0.9119523468524184\n",
      "0.9119523468524184\n"
     ]
    }
   ],
   "source": [
    "classification_error = (FP + FN) / float(TP + TN + FP + FN)\n",
    "\n",
    "print(classification_error)\n",
    "print(1 - metrics.accuracy_score(y_test, y_pred_class))"
   ]
  },
  {
   "cell_type": "code",
   "execution_count": 154,
   "metadata": {},
   "outputs": [
    {
     "name": "stdout",
     "output_type": "stream",
     "text": [
      "0.9960322708636423\n",
      "0.9960322708636423\n"
     ]
    }
   ],
   "source": [
    "sensitivity = TP / float(FN + TP)\n",
    "\n",
    "print(sensitivity)\n",
    "print(metrics.recall_score(y_test, y_pred_class))"
   ]
  },
  {
   "cell_type": "code",
   "execution_count": 155,
   "metadata": {},
   "outputs": [
    {
     "name": "stdout",
     "output_type": "stream",
     "text": [
      "0.006902665327108327\n"
     ]
    }
   ],
   "source": [
    "specificity = TN / (TN + FP)\n",
    "\n",
    "print(specificity)"
   ]
  },
  {
   "cell_type": "code",
   "execution_count": 156,
   "metadata": {},
   "outputs": [
    {
     "name": "stdout",
     "output_type": "stream",
     "text": [
      "0.9930973346728916\n",
      "0.9930973346728916\n"
     ]
    }
   ],
   "source": [
    "false_positive_rate = FP / float(TN + FP)\n",
    "\n",
    "print(false_positive_rate)\n",
    "print(1 - specificity)"
   ]
  },
  {
   "cell_type": "code",
   "execution_count": 157,
   "metadata": {},
   "outputs": [
    {
     "name": "stdout",
     "output_type": "stream",
     "text": [
      "0.0822592624956309\n",
      "0.0822592624956309\n"
     ]
    }
   ],
   "source": [
    "precision = TP / float(TP + FP)\n",
    "\n",
    "print(precision)\n",
    "print(metrics.precision_score(y_test, y_pred_class))"
   ]
  },
  {
   "cell_type": "code",
   "execution_count": null,
   "metadata": {},
   "outputs": [],
   "source": []
  },
  {
   "cell_type": "code",
   "execution_count": null,
   "metadata": {},
   "outputs": [],
   "source": []
  }
 ],
 "metadata": {
  "kernelspec": {
   "display_name": "Python 3",
   "language": "python",
   "name": "python3"
  },
  "language_info": {
   "codemirror_mode": {
    "name": "ipython",
    "version": 3
   },
   "file_extension": ".py",
   "mimetype": "text/x-python",
   "name": "python",
   "nbconvert_exporter": "python",
   "pygments_lexer": "ipython3",
   "version": "3.6.4"
  }
 },
 "nbformat": 4,
 "nbformat_minor": 2
}
