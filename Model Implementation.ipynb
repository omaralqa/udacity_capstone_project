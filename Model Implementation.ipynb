{
 "cells": [
  {
   "cell_type": "markdown",
   "metadata": {},
   "source": [
    "# Model Implementation"
   ]
  },
  {
   "cell_type": "markdown",
   "metadata": {},
   "source": [
    "After we have made the necessary preprocessing to our dataset. It's time now to select the best model for the problem of predicting home loan default risk. \n",
    "Let's try different classification models and select the best out of them"
   ]
  },
  {
   "cell_type": "code",
   "execution_count": 1,
   "metadata": {},
   "outputs": [
    {
     "data": {
      "text/html": [
       "<div>\n",
       "<style scoped>\n",
       "    .dataframe tbody tr th:only-of-type {\n",
       "        vertical-align: middle;\n",
       "    }\n",
       "\n",
       "    .dataframe tbody tr th {\n",
       "        vertical-align: top;\n",
       "    }\n",
       "\n",
       "    .dataframe thead th {\n",
       "        text-align: right;\n",
       "    }\n",
       "</style>\n",
       "<table border=\"1\" class=\"dataframe\">\n",
       "  <thead>\n",
       "    <tr style=\"text-align: right;\">\n",
       "      <th></th>\n",
       "      <th>SK_ID_CURR</th>\n",
       "      <th>TARGET</th>\n",
       "      <th>CNT_CHILDREN</th>\n",
       "      <th>AMT_INCOME_TOTAL</th>\n",
       "      <th>AMT_CREDIT</th>\n",
       "      <th>AMT_ANNUITY</th>\n",
       "      <th>AMT_GOODS_PRICE</th>\n",
       "      <th>REGION_POPULATION_RELATIVE</th>\n",
       "      <th>DAYS_BIRTH</th>\n",
       "      <th>DAYS_EMPLOYED</th>\n",
       "      <th>...</th>\n",
       "      <th>WALLSMATERIAL_MODE_Block</th>\n",
       "      <th>WALLSMATERIAL_MODE_Mixed</th>\n",
       "      <th>WALLSMATERIAL_MODE_Monolithic</th>\n",
       "      <th>WALLSMATERIAL_MODE_Others</th>\n",
       "      <th>WALLSMATERIAL_MODE_Panel</th>\n",
       "      <th>WALLSMATERIAL_MODE_Stone, brick</th>\n",
       "      <th>WALLSMATERIAL_MODE_Wooden</th>\n",
       "      <th>EMERGENCYSTATE_MODE_-999</th>\n",
       "      <th>EMERGENCYSTATE_MODE_No</th>\n",
       "      <th>EMERGENCYSTATE_MODE_Yes</th>\n",
       "    </tr>\n",
       "  </thead>\n",
       "  <tbody>\n",
       "    <tr>\n",
       "      <th>0</th>\n",
       "      <td>100002</td>\n",
       "      <td>1</td>\n",
       "      <td>0.0</td>\n",
       "      <td>0.244311</td>\n",
       "      <td>0.486854</td>\n",
       "      <td>0.519304</td>\n",
       "      <td>0.468102</td>\n",
       "      <td>0.018801</td>\n",
       "      <td>0.102041</td>\n",
       "      <td>0.001</td>\n",
       "      <td>...</td>\n",
       "      <td>0</td>\n",
       "      <td>0</td>\n",
       "      <td>0</td>\n",
       "      <td>0</td>\n",
       "      <td>0</td>\n",
       "      <td>1</td>\n",
       "      <td>0</td>\n",
       "      <td>0</td>\n",
       "      <td>1</td>\n",
       "      <td>0</td>\n",
       "    </tr>\n",
       "    <tr>\n",
       "      <th>1</th>\n",
       "      <td>100003</td>\n",
       "      <td>0</td>\n",
       "      <td>0.0</td>\n",
       "      <td>0.278657</td>\n",
       "      <td>0.745153</td>\n",
       "      <td>0.594277</td>\n",
       "      <td>0.722032</td>\n",
       "      <td>0.003541</td>\n",
       "      <td>0.510204</td>\n",
       "      <td>0.003</td>\n",
       "      <td>...</td>\n",
       "      <td>1</td>\n",
       "      <td>0</td>\n",
       "      <td>0</td>\n",
       "      <td>0</td>\n",
       "      <td>0</td>\n",
       "      <td>0</td>\n",
       "      <td>0</td>\n",
       "      <td>0</td>\n",
       "      <td>1</td>\n",
       "      <td>0</td>\n",
       "    </tr>\n",
       "    <tr>\n",
       "      <th>2</th>\n",
       "      <td>100004</td>\n",
       "      <td>0</td>\n",
       "      <td>0.0</td>\n",
       "      <td>0.114293</td>\n",
       "      <td>0.242071</td>\n",
       "      <td>0.257575</td>\n",
       "      <td>0.261059</td>\n",
       "      <td>0.010032</td>\n",
       "      <td>0.653061</td>\n",
       "      <td>0.000</td>\n",
       "      <td>...</td>\n",
       "      <td>0</td>\n",
       "      <td>0</td>\n",
       "      <td>0</td>\n",
       "      <td>0</td>\n",
       "      <td>0</td>\n",
       "      <td>0</td>\n",
       "      <td>0</td>\n",
       "      <td>1</td>\n",
       "      <td>0</td>\n",
       "      <td>0</td>\n",
       "    </tr>\n",
       "    <tr>\n",
       "      <th>3</th>\n",
       "      <td>100006</td>\n",
       "      <td>0</td>\n",
       "      <td>0.0</td>\n",
       "      <td>0.196694</td>\n",
       "      <td>0.428211</td>\n",
       "      <td>0.556790</td>\n",
       "      <td>0.431844</td>\n",
       "      <td>0.008019</td>\n",
       "      <td>0.653061</td>\n",
       "      <td>0.008</td>\n",
       "      <td>...</td>\n",
       "      <td>0</td>\n",
       "      <td>0</td>\n",
       "      <td>0</td>\n",
       "      <td>0</td>\n",
       "      <td>0</td>\n",
       "      <td>0</td>\n",
       "      <td>0</td>\n",
       "      <td>1</td>\n",
       "      <td>0</td>\n",
       "      <td>0</td>\n",
       "    </tr>\n",
       "    <tr>\n",
       "      <th>4</th>\n",
       "      <td>100007</td>\n",
       "      <td>0</td>\n",
       "      <td>0.0</td>\n",
       "      <td>0.183780</td>\n",
       "      <td>0.538977</td>\n",
       "      <td>0.493021</td>\n",
       "      <td>0.550527</td>\n",
       "      <td>0.028663</td>\n",
       "      <td>0.693878</td>\n",
       "      <td>0.008</td>\n",
       "      <td>...</td>\n",
       "      <td>0</td>\n",
       "      <td>0</td>\n",
       "      <td>0</td>\n",
       "      <td>0</td>\n",
       "      <td>0</td>\n",
       "      <td>0</td>\n",
       "      <td>0</td>\n",
       "      <td>1</td>\n",
       "      <td>0</td>\n",
       "      <td>0</td>\n",
       "    </tr>\n",
       "  </tbody>\n",
       "</table>\n",
       "<p>5 rows × 250 columns</p>\n",
       "</div>"
      ],
      "text/plain": [
       "   SK_ID_CURR  TARGET  CNT_CHILDREN  AMT_INCOME_TOTAL  AMT_CREDIT  \\\n",
       "0      100002       1           0.0          0.244311    0.486854   \n",
       "1      100003       0           0.0          0.278657    0.745153   \n",
       "2      100004       0           0.0          0.114293    0.242071   \n",
       "3      100006       0           0.0          0.196694    0.428211   \n",
       "4      100007       0           0.0          0.183780    0.538977   \n",
       "\n",
       "   AMT_ANNUITY  AMT_GOODS_PRICE  REGION_POPULATION_RELATIVE  DAYS_BIRTH  \\\n",
       "0     0.519304         0.468102                    0.018801    0.102041   \n",
       "1     0.594277         0.722032                    0.003541    0.510204   \n",
       "2     0.257575         0.261059                    0.010032    0.653061   \n",
       "3     0.556790         0.431844                    0.008019    0.653061   \n",
       "4     0.493021         0.550527                    0.028663    0.693878   \n",
       "\n",
       "   DAYS_EMPLOYED           ...             WALLSMATERIAL_MODE_Block  \\\n",
       "0          0.001           ...                                    0   \n",
       "1          0.003           ...                                    1   \n",
       "2          0.000           ...                                    0   \n",
       "3          0.008           ...                                    0   \n",
       "4          0.008           ...                                    0   \n",
       "\n",
       "   WALLSMATERIAL_MODE_Mixed  WALLSMATERIAL_MODE_Monolithic  \\\n",
       "0                         0                              0   \n",
       "1                         0                              0   \n",
       "2                         0                              0   \n",
       "3                         0                              0   \n",
       "4                         0                              0   \n",
       "\n",
       "   WALLSMATERIAL_MODE_Others  WALLSMATERIAL_MODE_Panel  \\\n",
       "0                          0                         0   \n",
       "1                          0                         0   \n",
       "2                          0                         0   \n",
       "3                          0                         0   \n",
       "4                          0                         0   \n",
       "\n",
       "   WALLSMATERIAL_MODE_Stone, brick  WALLSMATERIAL_MODE_Wooden  \\\n",
       "0                                1                          0   \n",
       "1                                0                          0   \n",
       "2                                0                          0   \n",
       "3                                0                          0   \n",
       "4                                0                          0   \n",
       "\n",
       "   EMERGENCYSTATE_MODE_-999  EMERGENCYSTATE_MODE_No  EMERGENCYSTATE_MODE_Yes  \n",
       "0                         0                       1                        0  \n",
       "1                         0                       1                        0  \n",
       "2                         1                       0                        0  \n",
       "3                         1                       0                        0  \n",
       "4                         1                       0                        0  \n",
       "\n",
       "[5 rows x 250 columns]"
      ]
     },
     "execution_count": 1,
     "metadata": {},
     "output_type": "execute_result"
    }
   ],
   "source": [
    "import numpy as np\n",
    "import pandas as pd\n",
    "import matplotlib.pyplot as plt       # Standard plotting library\n",
    "from time import time\n",
    "\n",
    "# Pretty display for notebooks\n",
    "%matplotlib inline\n",
    "\n",
    "# Load the Boston housing dataset\n",
    "data = pd.read_csv('data/application_train_final_NAN.csv')#application_train_final.csv')\n",
    "# Success - Display the first record  \n",
    "data.head(n=5)"
   ]
  },
  {
   "cell_type": "code",
   "execution_count": 2,
   "metadata": {},
   "outputs": [
    {
     "name": "stderr",
     "output_type": "stream",
     "text": [
      "/Users/omar/anaconda3/lib/python3.6/site-packages/sklearn/cross_validation.py:41: DeprecationWarning: This module was deprecated in version 0.18 in favor of the model_selection module into which all the refactored classes and functions are moved. Also note that the interface of the new CV iterators are different from that of this module. This module will be removed in 0.20.\n",
      "  \"This module will be removed in 0.20.\", DeprecationWarning)\n"
     ]
    },
    {
     "name": "stdout",
     "output_type": "stream",
     "text": [
      "Training set has 215054 samples.\n",
      "Testing set has 92166 samples.\n"
     ]
    }
   ],
   "source": [
    "# Import train_test_split\n",
    "from sklearn.cross_validation import train_test_split\n",
    "\n",
    "# Split target and features data\n",
    "target = data['TARGET']\n",
    "data = data.drop('TARGET', axis = 1)\n",
    "data = data.drop('SK_ID_CURR', axis = 1) # Remove application id from features\n",
    "data.shape[0]\n",
    "# Split the 'features' and 'income' data into training and testing sets\n",
    "X_train, X_test, y_train, y_test = train_test_split(data, \n",
    "                                                    target, \n",
    "                                                    test_size = 0.3, \n",
    "                                                    random_state = 48)\n",
    "\n",
    "# Show the results of the split\n",
    "print(\"Training set has {} samples.\".format(X_train.shape[0]))\n",
    "print(\"Testing set has {} samples.\".format(X_test.shape[0]))"
   ]
  },
  {
   "cell_type": "markdown",
   "metadata": {},
   "source": [
    "### Model Performance \n",
    "\n",
    "The purpose of this project is to minimize the risk of home loan dafualt risk. The dataset given to perform the prediction contains imbalanced class, e.g. the number of default loans compared to successful loan payment number is high. Therefore, accuracy metric could be misleading as some of the classification models outweight the dominant class and will always predict the dominant class. Since the purpose of this project is to minimze the risk, it would be better to reject an applicant that has been classified as default but they appear not (False Positive) than calssifying a default to be successful payment. In other words, it is better to focus on minimzing false negative rate than false positive rate. This suggests to use either Recall, Precision, and/or Area Under the Curve (AUC) for evaluating the model."
   ]
  },
  {
   "cell_type": "code",
   "execution_count": 3,
   "metadata": {},
   "outputs": [
    {
     "name": "stdout",
     "output_type": "stream",
     "text": [
      "Naive Predictor: [Accuracy score: 0.08074, F-score: 0.09892, Recall: 1.0, Precision: 0.08074]\n"
     ]
    }
   ],
   "source": [
    "TP = np.sum(target) # Counting the ones as this is the naive case. \n",
    "FP = target.count() - TP # Specific to the naive case\n",
    "\n",
    "TN = 0.0 # No predicted negatives in the naive case\n",
    "FN = 0.0 # No predicted negatives in the naive case\n",
    "\n",
    "accuracy = (TP + TN) / (TP + FP + TN + FN)\n",
    "recall = TP / (TP + FN)\n",
    "precision = TP / (TP + FP) * 1.0\n",
    "\n",
    "beta = 0.5\n",
    "fscore = (1.0 + (beta**2.0)) * ((precision * recall) / ((beta**2.0 * precision) + recall))\n",
    "\n",
    "\n",
    "# Print the results \n",
    "print(\"Naive Predictor: [Accuracy score: {:.04}, F-score: {:.04}, Recall: {:.04}, Precision: {:.04}]\".format(accuracy, fscore, recall, precision))\n"
   ]
  },
  {
   "cell_type": "code",
   "execution_count": 4,
   "metadata": {},
   "outputs": [],
   "source": [
    "def get_scores(y_train, y_test, y_pred_train, y_pred_test):\n",
    "    res = {}\n",
    "    res['acc_train'] = accuracy_score(y_train, to_binary(y_pred_train.copy()))\n",
    "    res['acc_test'] = accuracy_score(y_test, to_binary(y_pred_test.copy()))\n",
    "\n",
    "    res['f_train'] = fbeta_score(y_train, to_binary(y_pred_train.copy()), beta=0.5)\n",
    "    res['f_test'] = fbeta_score(y_test, to_binary(y_pred_test.copy()), beta=0.5)\n",
    "\n",
    "    res['rec_train'] = recall_score(y_train, to_binary(y_pred_train.copy()))\n",
    "    res['rec_test'] = recall_score(y_test, to_binary(y_pred_test.copy()))\n",
    "\n",
    "    res['pre_train'] = precision_score(y_train, to_binary(y_pred_train.copy()))\n",
    "    res['pre_test'] = precision_score(y_test, to_binary(y_pred_test.copy()))\n",
    "\n",
    "    res['auc_train'] = roc_auc_score(y_train, y_pred_train)        \n",
    "    res['auc_test'] = roc_auc_score(y_test, y_pred_test)\n",
    "    return res"
   ]
  },
  {
   "cell_type": "code",
   "execution_count": 5,
   "metadata": {},
   "outputs": [],
   "source": [
    "# TODO: Import two metrics from sklearn - fbeta_score and accuracy_score\n",
    "from sklearn.metrics import accuracy_score, recall_score, precision_score, fbeta_score, roc_auc_score\n",
    "\n",
    "# convert probability to binary for LighGBM \n",
    "def to_binary(y_pred):\n",
    "    for i in range(0, len(y_pred)):\n",
    "        if y_pred[i] >= .5:\n",
    "            y_pred[i] = 1\n",
    "        else:\n",
    "            y_pred[i] = 0\n",
    "    return y_pred\n",
    "\n",
    "def train_predict(learner, sample_size, X_train, y_train, X_test, y_test): \n",
    "    '''\n",
    "    inputs:\n",
    "       - learner: the learning algorithm to be trained and predicted on\n",
    "       - sample_size: the size of samples (number) to be drawn from training set\n",
    "       - X_train: features training set\n",
    "       - y_train: income training set\n",
    "       - X_test: features testing set\n",
    "       - y_test: income testing set\n",
    "    '''\n",
    "    \n",
    "    res = {}\n",
    "\n",
    "    # Fit the learner to the training data using slicing with 'sample_size' using .fit(training_features[:], training_labels[:])\n",
    "    learner = learner.fit(X_train[:sample_size], y_train[:sample_size])\n",
    "    \n",
    "    predictions_train = learner.predict(X_train)\n",
    "    predictions_test = learner.predict(X_test)\n",
    "    \n",
    "    res = get_scores(y_train, y_test, predictions_train, predictions_test)\n",
    "    # Success\n",
    "    print(\"{} trained on {} samples.\".format(learner.__class__.__name__, sample_size))\n",
    "    tn, fp, fn, tp = metrics.confusion_matrix(y_test, predictions_test).ravel()    \n",
    "    print(\"TN: {:}, FP: {:}, FN:{:}, TP:{:}\".format(tn, fp, fn, tp))\n",
    "    # Return the results\n",
    "    return res\n"
   ]
  },
  {
   "cell_type": "code",
   "execution_count": 6,
   "metadata": {},
   "outputs": [
    {
     "name": "stderr",
     "output_type": "stream",
     "text": [
      "/Users/omar/anaconda3/lib/python3.6/site-packages/lightgbm/__init__.py:46: UserWarning: Starting from version 2.2.1, the library file in distribution wheels for macOS is built by the Apple Clang (Xcode_9.4.1) compiler.\n",
      "This means that in case of installing LightGBM from PyPI via the ``pip install lightgbm`` command, you don't need to install the gcc compiler anymore.\n",
      "Instead of that, you need to install the OpenMP library, which is required for running LightGBM on the system with the Apple Clang compiler.\n",
      "You can install the OpenMP library by the following command: ``brew install libomp``.\n",
      "  \"You can install the OpenMP library by the following command: ``brew install libomp``.\", UserWarning)\n"
     ]
    }
   ],
   "source": [
    "#Import classification models, gridSearch, and evaluation metrics from sklearn\n",
    "import xgboost as xgb\n",
    "from xgboost.sklearn import XGBClassifier\n",
    "from sklearn import cross_validation, metrics   \n",
    "from sklearn.model_selection import GridSearchCV\n",
    "from sklearn.ensemble import RandomForestClassifier, AdaBoostClassifier\n",
    "from sklearn.naive_bayes import GaussianNB\n",
    "from sklearn.linear_model import LogisticRegression\n",
    "import lightgbm as lgb"
   ]
  },
  {
   "cell_type": "code",
   "execution_count": 37,
   "metadata": {},
   "outputs": [
    {
     "name": "stdout",
     "output_type": "stream",
     "text": [
      "Started training ABoost model\n",
      "AdaBoostClassifier trained on 215054 samples.\n",
      "TN: 84701, FP: 9, FN:7449, TP:7\n",
      "Train - AUC: 0.5002, Accuracy: 0.9193, f1 score: 0.002008, Recall: 0.0004035, Precision: 0.3333\n",
      "Pred - AUC: 0.5004, Accuracy: 0.9191, f1 score: 0.004654, Recall: 0.0009388, Precision: 0.4375\n",
      "\n",
      "\n",
      "Started training GNB model\n",
      "GaussianNB trained on 215054 samples.\n",
      "TN: 6897, FP: 77813, FN:381, TP:7075\n",
      "Train - AUC: 0.5182, Accuracy: 0.1535, f1 score: 0.1023, Recall: 0.9531, Precision: 0.08361\n",
      "Pred - AUC: 0.5152, Accuracy: 0.1516, f1 score: 0.1019, Recall: 0.9489, Precision: 0.08335\n",
      "\n",
      "\n",
      "Started training LR model\n",
      "LogisticRegression trained on 215054 samples.\n",
      "TN: 54153, FP: 30557, FN:2729, TP:4727\n",
      "Train - AUC: 0.6325, Accuracy: 0.6363, f1 score: 0.1565, Recall: 0.6279, Precision: 0.1318\n",
      "Pred - AUC: 0.6366, Accuracy: 0.6388, f1 score: 0.1591, Recall: 0.634, Precision: 0.134\n",
      "\n",
      "\n",
      "Started training XGBoost model\n"
     ]
    },
    {
     "name": "stderr",
     "output_type": "stream",
     "text": [
      "/Users/omar/anaconda3/lib/python3.6/site-packages/sklearn/preprocessing/label.py:151: DeprecationWarning: The truth value of an empty array is ambiguous. Returning False, but in future this will result in an error. Use `array.size > 0` to check that an array is not empty.\n",
      "  if diff:\n",
      "/Users/omar/anaconda3/lib/python3.6/site-packages/sklearn/preprocessing/label.py:151: DeprecationWarning: The truth value of an empty array is ambiguous. Returning False, but in future this will result in an error. Use `array.size > 0` to check that an array is not empty.\n",
      "  if diff:\n"
     ]
    },
    {
     "name": "stdout",
     "output_type": "stream",
     "text": [
      "XGBClassifier trained on 215054 samples.\n",
      "TN: 56473, FP: 28237, FN:2214, TP:5242\n",
      "Train - AUC: 0.6921, Accuracy: 0.6691, f1 score: 0.1877, Recall: 0.7194, Precision: 0.1584\n",
      "Pred - AUC: 0.6849, Accuracy: 0.6696, f1 score: 0.1854, Recall: 0.7031, Precision: 0.1566\n",
      "\n",
      "\n"
     ]
    }
   ],
   "source": [
    "pos_class = target.count()//np.sum(target)\n",
    "classifiers = [\n",
    "    ('ABoost', AdaBoostClassifier(random_state=48)),\n",
    "    ('GNB', GaussianNB()),\n",
    "    ('LR', LogisticRegression(random_state=48, class_weight='balanced')),\n",
    "    ('XGBoost', XGBClassifier(random_state=48, scale_pos_weight=pos_class))\n",
    "]\n",
    "\n",
    "results = {}\n",
    "for name, cls in classifiers:\n",
    "    print (\"Started training\", name, \"model\")\n",
    "    res = train_predict(cls, len(X_train), X_train, y_train, X_test, y_test)\n",
    "    results[name] = res\n",
    "    print(\"Train - AUC: {:.04}, Accuracy: {:.04}, f1 score: {:.04}, Recall: {:.04}, Precision: {:.04}\".format(res[\"auc_train\"], res[\"acc_train\"], res[\"f_train\"], res[\"rec_train\"], res[\"pre_train\"]))\n",
    "    print(\"Pred - AUC: {:.04}, Accuracy: {:.04}, f1 score: {:.04}, Recall: {:.04}, Precision: {:.04}\".format(res[\"auc_test\"], res[\"acc_test\"], res[\"f_test\"], res[\"rec_test\"], res[\"pre_test\"]))\n",
    "    print(\"\\n\")"
   ]
  },
  {
   "cell_type": "code",
   "execution_count": 38,
   "metadata": {},
   "outputs": [],
   "source": [
    "pos_class = target.count()//np.sum(target)\n",
    "_param = {\n",
    "            'objective': 'binary',\n",
    "            'metric': 'auc',\n",
    "            'scale_pos_weight': pos_class,\n",
    "            'random_state': 48\n",
    "        }\n",
    "clf = ('LightGBM', lgb.Dataset(data=X_train,label=y_train))\n",
    "\n",
    "# Fit the learner to the training data using slicing with 'sample_size' using .fit(training_features[:], training_labels[:])\n",
    "learner = lgb.train(_param, clf[1], 10)\n",
    "predictions_train = learner.predict(X_train)\n",
    "predictions_test = learner.predict(X_test)\n",
    "results[clf[0]] = get_scores(y_train, y_test, predictions_train, predictions_test)\n"
   ]
  },
  {
   "cell_type": "code",
   "execution_count": 11,
   "metadata": {},
   "outputs": [
    {
     "name": "stdout",
     "output_type": "stream",
     "text": [
      "TN: 77074, FP: 7636, FN:5062, TP:2394\n",
      "Train - AUC: 0.7486, Accuracy: 0.8635, f1 score: 0.2576, Recall: 0.3304, Precision: 0.2442\n",
      "Pred - AUC: 0.7364, Accuracy: 0.8622, f1 score: 0.2516, Recall: 0.3211, Precision: 0.2387\n"
     ]
    }
   ],
   "source": [
    "tn, fp, fn, tp = metrics.confusion_matrix(y_test, to_binary(predictions_test.copy())).ravel()    \n",
    "print(\"TN: {:}, FP: {:}, FN:{:}, TP:{:}\".format(tn, fp, fn, tp))\n",
    "print(\"Train - AUC: {:.04}, Accuracy: {:.04}, f1 score: {:.04}, Recall: {:.04}, Precision: {:.04}\".format(results['LightGBM'][\"auc_train\"], results['LightGBM'][\"acc_train\"], results['LightGBM'][\"f_train\"], results['LightGBM'][\"rec_train\"], results['LightGBM'][\"pre_train\"]))\n",
    "print(\"Pred - AUC: {:.04}, Accuracy: {:.04}, f1 score: {:.04}, Recall: {:.04}, Precision: {:.04}\".format(results['LightGBM'][\"auc_test\"], results['LightGBM'][\"acc_test\"], results['LightGBM'][\"f_test\"], results['LightGBM'][\"rec_test\"], results['LightGBM'][\"pre_test\"]))\n"
   ]
  },
  {
   "cell_type": "code",
   "execution_count": 39,
   "metadata": {},
   "outputs": [],
   "source": [
    "accuracy = [{model:results[model][\"acc_test\"]} for model in results]\n",
    "recall = [{model:results[model][\"rec_test\"]} for model in results]\n",
    "precision = [{model:results[model][\"pre_test\"]} for model in results]\n",
    "auc = [{model:results[model][\"auc_test\"]} for model in results]\n",
    "f1 = [{model:results[model][\"f_test\"]} for model in results]"
   ]
  },
  {
   "cell_type": "code",
   "execution_count": 40,
   "metadata": {},
   "outputs": [],
   "source": [
    "accuracy = dict(pair for d in accuracy for pair in d.items())\n",
    "recall = dict(pair for d in recall for pair in d.items())\n",
    "precision = dict(pair for d in precision for pair in d.items())\n",
    "auc = dict(pair for d in auc for pair in d.items())\n",
    "f1 = dict(pair for d in f1 for pair in d.items())"
   ]
  },
  {
   "cell_type": "code",
   "execution_count": 41,
   "metadata": {},
   "outputs": [],
   "source": [
    "def plot(x_label, y_label, dic):\n",
    "    plt.bar(range(len(dic)), list(dic.values()), align='center')\n",
    "    plt.xticks(range(len(dic)), list(dic.keys()), rotation=90)\n",
    "    plt.ylabel(y_label)\n",
    "    plt.xlabel(x_label)\n",
    "    plt.title(y_label)\n",
    "    plt.show()"
   ]
  },
  {
   "cell_type": "code",
   "execution_count": 42,
   "metadata": {},
   "outputs": [
    {
     "data": {
      "image/png": "[encoded data removed]",
      "text/plain": [
       "<matplotlib.figure.Figure at 0x132964a20>"
      ]
     },
     "metadata": {},
     "output_type": "display_data"
    },
    {
     "data": {
      "image/png": "[encoded data removed]",
      "text/plain": [
       "<matplotlib.figure.Figure at 0x132964a58>"
      ]
     },
     "metadata": {},
     "output_type": "display_data"
    },
    {
     "data": {
      "image/png": "[encoded data removed]",
      "text/plain": [
       "<matplotlib.figure.Figure at 0x131500470>"
      ]
     },
     "metadata": {},
     "output_type": "display_data"
    },
    {
     "data": {
      "image/png": "[encoded data removed]",
      "text/plain": [
       "<matplotlib.figure.Figure at 0x131500278>"
      ]
     },
     "metadata": {},
     "output_type": "display_data"
    },
    {
     "data": {
      "image/png": "[encoded data removed]",
      "text/plain": [
       "<matplotlib.figure.Figure at 0x1314d6b00>"
      ]
     },
     "metadata": {},
     "output_type": "display_data"
    }
   ],
   "source": [
    "plot('Model','Accuracy score by Model', accuracy)\n",
    "plot('Model','Recall score by Model', recall)\n",
    "plot('Model','Precision score by Model', precision)\n",
    "plot('Model','F1 score by Model', f1)\n",
    "plot('Model','AUC score by Model', auc)"
   ]
  },
  {
   "cell_type": "markdown",
   "metadata": {},
   "source": [
    "Since the dataset is an imbalanced dataset (only 8% of dataset classified as positive), LightGBM and XGBoost performs the best out of the other models used above in terms of F1 score and AUC score. Therefore, the chosen model for this problem will be LightGBM model. "
   ]
  },
  {
   "cell_type": "markdown",
   "metadata": {},
   "source": [
    "# Parameters Tuning"
   ]
  },
  {
   "cell_type": "code",
   "execution_count": 16,
   "metadata": {},
   "outputs": [
    {
     "name": "stdout",
     "output_type": "stream",
     "text": [
      "LightGBM AUC score before tuning: 0.7364, F1 Score: 0.2516\n"
     ]
    }
   ],
   "source": [
    "print('LightGBM AUC score before tuning: {:.04}, F1 Score: {:.04}'.format(auc['LightGBM'], f1['LightGBM']))"
   ]
  },
  {
   "cell_type": "markdown",
   "metadata": {},
   "source": [
    "In the following steps, the aim is to increase both AUC and F1 score for LightGBM model by tuning its hyperparameter to find the best parameters that fits the dataset optimally."
   ]
  },
  {
   "cell_type": "code",
   "execution_count": 28,
   "metadata": {},
   "outputs": [
    {
     "name": "stdout",
     "output_type": "stream",
     "text": [
      "Training until validation scores don't improve for 250 rounds.\n",
      "[100]\tcv's auc: 0.753214\n",
      "[200]\tcv's auc: 0.758614\n",
      "[300]\tcv's auc: 0.760037\n",
      "[400]\tcv's auc: 0.760226\n",
      "[500]\tcv's auc: 0.760255\n",
      "[600]\tcv's auc: 0.760183\n",
      "[700]\tcv's auc: 0.76004\n",
      "Early stopping, best iteration is:\n",
      "[510]\tcv's auc: 0.760331\n"
     ]
    }
   ],
   "source": [
    "evals_result = {}  # dict to store evaluation results of all the items in `valid_sets`\n",
    "dev_X, val_X, dev_y, val_y = train_test_split(X_train, y_train, test_size = 0.2, random_state = 42)\n",
    "pos_class = dev_y.count()//np.sum(dev_y) # recalculate positive class weight after CV split\n",
    "\n",
    "# para searching\n",
    "params = {\n",
    "    'boosting_type': 'gbdt',  # np.random.choice(['dart', 'gbdt']),\n",
    "    'objective': 'binary',\n",
    "    'metric': ['auc', 'f1'], \n",
    "    \n",
    "    'learning_rate': 0.1,\n",
    "    \n",
    "    'num_leaves': np.random.randint(64, 128),\n",
    "    'max_depth': np.random.randint(6, 12),\n",
    "    'min_data_in_leaf': int(2 ** (np.random.rand()*3.5 + 9)),\n",
    "    \n",
    "    'feature_fraction': np.random.rand()*0.35+0.65,\n",
    "    'bagging_fraction': np.random.rand()*0.35+0.65,\n",
    "    'bagging_freq': 1,\n",
    "    \n",
    "    'lambda_l1': 10 ** (np.random.rand() * 4),\n",
    "    'lambda_l2': 10 ** (np.random.rand() * 3 + 2),\n",
    "    'min_gain_to_split': 0.0,\n",
    "    'min_sum_hessian_in_leaf': 0.1,\n",
    "    \n",
    "    'num_threads': 16,\n",
    "    'verbose': 0,\n",
    "    'is_training_metric': 'True',\n",
    "    'scale_pos_weight': pos_class\n",
    "}\n",
    "\n",
    "\n",
    "\n",
    "lgb_train = lgb.Dataset(data=dev_X,label=dev_y)\n",
    "lgb_val = lgb.Dataset(data=val_X, label=val_y)\n",
    "lgb_test = lgb.Dataset(data=X_test,label=y_test)\n",
    "\n",
    "gbm = lgb.train(params, lgb_train, 5000, valid_sets=[lgb_val], \\\n",
    "                valid_names = ['cv'], evals_result=evals_result, \\\n",
    "                early_stopping_rounds=250, verbose_eval=100, \n",
    "                categorical_feature='auto')\n",
    "predictions_test_tuned = gbm.predict(X_test)\n"
   ]
  },
  {
   "cell_type": "code",
   "execution_count": 29,
   "metadata": {},
   "outputs": [
    {
     "name": "stdout",
     "output_type": "stream",
     "text": [
      "Best Parameters that improved our final model LightGBM: \n",
      "{'boosting_type': 'gbdt', 'objective': 'binary', 'metric': ['auc', 'f1'], 'learning_rate': 0.1, 'num_leaves': 116, 'max_depth': 7, 'min_data_in_leaf': 2394, 'feature_fraction': 0.8480511816917773, 'bagging_fraction': 0.7682161532143479, 'bagging_freq': 1, 'lambda_l1': 134.29783711684772, 'lambda_l2': 3105.4418845715327, 'min_gain_to_split': 0.0, 'min_sum_hessian_in_leaf': 0.1, 'num_threads': 16, 'verbose': 0, 'is_training_metric': 'True', 'scale_pos_weight': 12}\n"
     ]
    }
   ],
   "source": [
    "print('Best Parameters that improved our final model LightGBM: \\n{}'.format(params))"
   ]
  },
  {
   "cell_type": "code",
   "execution_count": 30,
   "metadata": {},
   "outputs": [
    {
     "name": "stdout",
     "output_type": "stream",
     "text": [
      "Before Tuning:\n",
      "AUC score: 0.7364, F1 Score: 0.2516, Recall: 0.3211, Precision: 0.2387\n",
      "TN: 77074, FP: 7636, FN:5062, TP:2394\n",
      "\n",
      "After Tuning:\n",
      "AUC score: 0.7596, F1 Score: 0.196, Recall: 0.6943, Precision: 0.1662\n",
      "TN: 58734, FP: 25976, FN:2279, TP:5177\n"
     ]
    }
   ],
   "source": [
    "res_tuned = get_scores(y_train, y_test, predictions_train, predictions_test_tuned)\n",
    "print('Before Tuning:\\nAUC score: {:.04}, F1 Score: {:.04}, Recall: {:.04}, Precision: {:.04}'.format(auc['LightGBM'], f1['LightGBM'], recall['LightGBM'], precision['LightGBM']))\n",
    "tn, fp, fn, tp = metrics.confusion_matrix(y_test, to_binary(predictions_test.copy())).ravel()    \n",
    "print(\"TN: {:}, FP: {:}, FN:{:}, TP:{:}\".format(tn, fp, fn, tp))\n",
    "\n",
    "print('\\nAfter Tuning:\\nAUC score: {:.04}, F1 Score: {:.04}, Recall: {:.04}, Precision: {:.04}'.format(res_tuned['auc_test'], res_tuned['f_test'], res_tuned['rec_test'], res_tuned['pre_test']))\n",
    "tn, fp, fn, tp = metrics.confusion_matrix(y_test, to_binary(predictions_test_tuned.copy())).ravel()    \n",
    "print(\"TN: {:}, FP: {:}, FN:{:}, TP:{:}\".format(tn, fp, fn, tp))"
   ]
  },
  {
   "cell_type": "code",
   "execution_count": 32,
   "metadata": {},
   "outputs": [
    {
     "data": {
      "image/png": "[encoded data removed]",
      "text/plain": [
       "<matplotlib.figure.Figure at 0x13266f5f8>"
      ]
     },
     "metadata": {},
     "output_type": "display_data"
    },
    {
     "data": {
      "image/png": "[encoded data removed]",
      "text/plain": [
       "<matplotlib.figure.Figure at 0x13266fbe0>"
      ]
     },
     "metadata": {},
     "output_type": "display_data"
    }
   ],
   "source": [
    "plot('Evaluation Metric','LightGBM - Evaluation Metrics', results['LightGBM'] )\n",
    "plot('Evaluation Metric','LightGBM - Evaluation Metrics', res_tuned )\n"
   ]
  },
  {
   "cell_type": "code",
   "execution_count": 33,
   "metadata": {},
   "outputs": [
    {
     "data": {
      "text/plain": [
       "{'acc_test': 0.8622268515504633,\n",
       " 'acc_train': 0.8634808001711198,\n",
       " 'auc_test': 0.7364077169938031,\n",
       " 'auc_train': 0.7486274908338135,\n",
       " 'f_test': 0.25159744408945683,\n",
       " 'f_train': 0.2576226089457788,\n",
       " 'pre_test': 0.2386839481555334,\n",
       " 'pre_train': 0.24417465388711396,\n",
       " 'rec_test': 0.32108369098712447,\n",
       " 'rec_train': 0.33041272769195296}"
      ]
     },
     "metadata": {},
     "output_type": "display_data"
    },
    {
     "data": {
      "text/plain": [
       "{'acc_test': 0.693433587223054,\n",
       " 'acc_train': 0.8634808001711198,\n",
       " 'auc_test': 0.7595583825376454,\n",
       " 'auc_train': 0.7486274908338135,\n",
       " 'f_test': 0.19599751643092952,\n",
       " 'f_train': 0.2576226089457788,\n",
       " 'pre_test': 0.1661798221680095,\n",
       " 'pre_train': 0.24417465388711396,\n",
       " 'rec_test': 0.6943401287553648,\n",
       " 'rec_train': 0.33041272769195296}"
      ]
     },
     "metadata": {},
     "output_type": "display_data"
    }
   ],
   "source": [
    "display(results['LightGBM'])\n",
    "display(res_tuned)"
   ]
  },
  {
   "cell_type": "code",
   "execution_count": 35,
   "metadata": {},
   "outputs": [
    {
     "data": {
      "image/png": "[encoded data removed]",
      "text/plain": [
       "<matplotlib.figure.Figure at 0x1312d5160>"
      ]
     },
     "metadata": {},
     "output_type": "display_data"
    }
   ],
   "source": [
    "importance = gbm.feature_importance()\n",
    "feature_name = gbm.feature_name()\n",
    "ax = lgb.plot_importance(gbm, max_num_features=20)\n",
    "plt.show()"
   ]
  },
  {
   "cell_type": "code",
   "execution_count": null,
   "metadata": {},
   "outputs": [],
   "source": []
  }
 ],
 "metadata": {
  "kernelspec": {
   "display_name": "Python 3",
   "language": "python",
   "name": "python3"
  },
  "language_info": {
   "codemirror_mode": {
    "name": "ipython",
    "version": 3
   },
   "file_extension": ".py",
   "mimetype": "text/x-python",
   "name": "python",
   "nbconvert_exporter": "python",
   "pygments_lexer": "ipython3",
   "version": "3.6.4"
  }
 },
 "nbformat": 4,
 "nbformat_minor": 2
}
